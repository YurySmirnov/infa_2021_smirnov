{
  "nbformat": 4,
  "nbformat_minor": 0,
  "metadata": {
    "colab": {
      "name": "Untitled28.ipynb",
      "provenance": [],
      "authorship_tag": "ABX9TyMFnmtmM+H/Ra7inYi4jnyo",
      "include_colab_link": true
    },
    "kernelspec": {
      "name": "python3",
      "display_name": "Python 3"
    },
    "language_info": {
      "name": "python"
    }
  },
  "cells": [
    {
      "cell_type": "markdown",
      "metadata": {
        "id": "view-in-github",
        "colab_type": "text"
      },
      "source": [
        "<a href=\"https://colab.research.google.com/github/YurySmirnov/infa_2021_smirnov/blob/main/Untitled28.ipynb\" target=\"_parent\"><img src=\"https://colab.research.google.com/assets/colab-badge.svg\" alt=\"Open In Colab\"/></a>"
      ]
    },
    {
      "cell_type": "code",
      "metadata": {
        "id": "pqeo9Fg1qHAI"
      },
      "source": [
        "import numpy as np\n",
        "import re"
      ],
      "execution_count": null,
      "outputs": []
    },
    {
      "cell_type": "code",
      "metadata": {
        "colab": {
          "base_uri": "https://localhost:8080/"
        },
        "id": "JHWYpwtC0cLH",
        "outputId": "d8385e23-ead2-4ca6-e7dd-8c493581e424"
      },
      "source": [
        "with open('/content/_3a8d746cf4d86fba2f31586f239d11fd_sentences.txt', 'r') as file:\n",
        "  a = file.readlines()\n",
        "  b = []\n",
        "  c = set()\n",
        "  for sentence in a:\n",
        "    sent1 = [word.lower() for word in sentence.split()]\n",
        "    sent1 = ' '.join(sent1)\n",
        "    sent2 = re.split('[^a-z]', sent1)\n",
        "    sent3 = [word for word in sent2 if word != '']\n",
        "    b.append(sent3)\n",
        "    for word in sent3:\n",
        "      c.add(word)\n",
        "len(b)\n",
        "sent3"
      ],
      "execution_count": null,
      "outputs": [
        {
          "output_type": "execute_result",
          "data": {
            "text/plain": [
              "['the',\n",
              " 'fifth',\n",
              " 'major',\n",
              " 'update',\n",
              " 'to',\n",
              " 'mac',\n",
              " 'os',\n",
              " 'x',\n",
              " 'leopard',\n",
              " 'contains',\n",
              " 'such',\n",
              " 'a',\n",
              " 'mountain',\n",
              " 'of',\n",
              " 'features',\n",
              " 'more',\n",
              " 'than',\n",
              " 'by',\n",
              " 'apple',\n",
              " 's',\n",
              " 'count']"
            ]
          },
          "metadata": {
            "tags": []
          },
          "execution_count": 20
        }
      ]
    },
    {
      "cell_type": "code",
      "metadata": {
        "colab": {
          "base_uri": "https://localhost:8080/"
        },
        "id": "WiCp-pcJ1ja_",
        "outputId": "9f2d7465-6247-468c-d9f3-d14c23573d39"
      },
      "source": [
        "len(c)"
      ],
      "execution_count": null,
      "outputs": [
        {
          "output_type": "execute_result",
          "data": {
            "text/plain": [
              "254"
            ]
          },
          "metadata": {
            "tags": []
          },
          "execution_count": 11
        }
      ]
    },
    {
      "cell_type": "code",
      "metadata": {
        "id": "9vDkPl9Y1kJb",
        "colab": {
          "base_uri": "https://localhost:8080/"
        },
        "outputId": "5316a341-0911-432f-9a60-a6114618a2c6"
      },
      "source": [
        "dict1 = dict(enumerate(c))\n",
        "dict1 = {value: key for key, value in dict1.items()}\n",
        "dict1"
      ],
      "execution_count": null,
      "outputs": [
        {
          "output_type": "execute_result",
          "data": {
            "text/plain": [
              "{'a': 184,\n",
              " 'according': 115,\n",
              " 'adjacent': 188,\n",
              " 'allow': 253,\n",
              " 'allows': 159,\n",
              " 'also': 152,\n",
              " 'an': 145,\n",
              " 'ancestor': 40,\n",
              " 'and': 190,\n",
              " 'animals': 72,\n",
              " 'any': 68,\n",
              " 'app': 147,\n",
              " 'apple': 196,\n",
              " 'are': 141,\n",
              " 'arguments': 23,\n",
              " 'artificial': 246,\n",
              " 'as': 241,\n",
              " 'available': 76,\n",
              " 'based': 205,\n",
              " 'basic': 193,\n",
              " 'be': 71,\n",
              " 'between': 139,\n",
              " 'binary': 192,\n",
              " 'both': 217,\n",
              " 'by': 133,\n",
              " 'bytes': 9,\n",
              " 'can': 143,\n",
              " 'cat': 117,\n",
              " 'catenates': 138,\n",
              " 'cats': 186,\n",
              " 'changes': 183,\n",
              " 'chromosomes': 162,\n",
              " 'clear': 16,\n",
              " 'closest': 134,\n",
              " 'command': 239,\n",
              " 'commands': 103,\n",
              " 'common': 64,\n",
              " 'community': 27,\n",
              " 'comparison': 48,\n",
              " 'computers': 249,\n",
              " 'concatenate': 53,\n",
              " 'concern': 168,\n",
              " 'connected': 180,\n",
              " 'contains': 208,\n",
              " 'content': 237,\n",
              " 'count': 240,\n",
              " 'create': 202,\n",
              " 'default': 116,\n",
              " 'delete': 226,\n",
              " 'deliberately': 170,\n",
              " 'developed': 225,\n",
              " 'diploid': 111,\n",
              " 'disk': 10,\n",
              " 'displays': 44,\n",
              " 'dogs': 160,\n",
              " 'domestic': 63,\n",
              " 'domesticated': 182,\n",
              " 'domestication': 128,\n",
              " 'download': 0,\n",
              " 'drive': 41,\n",
              " 'during': 216,\n",
              " 'ears': 210,\n",
              " 'editions': 124,\n",
              " 'enhancements': 198,\n",
              " 'entirely': 67,\n",
              " 'error': 151,\n",
              " 'every': 155,\n",
              " 'external': 55,\n",
              " 'factory': 252,\n",
              " 'faint': 161,\n",
              " 'features': 142,\n",
              " 'felis': 251,\n",
              " 'fifth': 56,\n",
              " 'file': 127,\n",
              " 'files': 31,\n",
              " 'firmware': 24,\n",
              " 'flow': 97,\n",
              " 'for': 119,\n",
              " 'frequency': 11,\n",
              " 'from': 65,\n",
              " 'genes': 146,\n",
              " 'genus': 101,\n",
              " 'has': 21,\n",
              " 'have': 108,\n",
              " 'hear': 74,\n",
              " 'high': 167,\n",
              " 'however': 220,\n",
              " 'human': 163,\n",
              " 'if': 46,\n",
              " 'in': 43,\n",
              " 'incremental': 34,\n",
              " 'information': 36,\n",
              " 'installation': 136,\n",
              " 'installed': 13,\n",
              " 'installs': 87,\n",
              " 'instead': 129,\n",
              " 'intel': 244,\n",
              " 'interactive': 156,\n",
              " 'is': 179,\n",
              " 'it': 57,\n",
              " 'its': 60,\n",
              " 'july': 118,\n",
              " 'just': 166,\n",
              " 'keyboards': 1,\n",
              " 'kg': 132,\n",
              " 'later': 45,\n",
              " 'lb': 49,\n",
              " 'learned': 230,\n",
              " 'left': 107,\n",
              " 'legibility': 105,\n",
              " 'leopard': 110,\n",
              " 'lines': 218,\n",
              " 'linux': 131,\n",
              " 'lion': 222,\n",
              " 'longer': 197,\n",
              " 'mac': 17,\n",
              " 'made': 78,\n",
              " 'major': 164,\n",
              " 'marks': 199,\n",
              " 'mavericks': 223,\n",
              " 'may': 79,\n",
              " 'members': 19,\n",
              " 'mice': 234,\n",
              " 'mid': 245,\n",
              " 'more': 20,\n",
              " 'most': 38,\n",
              " 'mountain': 125,\n",
              " 'moved': 157,\n",
              " 'named': 165,\n",
              " 'need': 153,\n",
              " 'needing': 191,\n",
              " 'new': 194,\n",
              " 'no': 18,\n",
              " 'non': 37,\n",
              " 'not': 99,\n",
              " 'now': 58,\n",
              " 'october': 84,\n",
              " 'of': 5,\n",
              " 'off': 232,\n",
              " 'offered': 8,\n",
              " 'often': 62,\n",
              " 'on': 227,\n",
              " 'one': 29,\n",
              " 'online': 75,\n",
              " 'or': 126,\n",
              " 'organisms': 229,\n",
              " 'os': 122,\n",
              " 'osx': 187,\n",
              " 'other': 3,\n",
              " 'output': 123,\n",
              " 'over': 32,\n",
              " 'part': 236,\n",
              " 'patch': 206,\n",
              " 'people': 15,\n",
              " 'permanently': 201,\n",
              " 'piped': 243,\n",
              " 'pipes': 106,\n",
              " 'place': 215,\n",
              " 'possess': 189,\n",
              " 'predators': 238,\n",
              " 'predecessor': 33,\n",
              " 'process': 228,\n",
              " 'processors': 137,\n",
              " 'purchase': 207,\n",
              " 'rather': 98,\n",
              " 'read': 219,\n",
              " 'received': 204,\n",
              " 'receives': 42,\n",
              " 'recent': 2,\n",
              " 'redirected': 104,\n",
              " 'redirection': 221,\n",
              " 'release': 25,\n",
              " 'released': 51,\n",
              " 'releases': 150,\n",
              " 'releasing': 121,\n",
              " 'right': 144,\n",
              " 'roughly': 247,\n",
              " 'run': 176,\n",
              " 'running': 88,\n",
              " 's': 52,\n",
              " 'safari': 61,\n",
              " 'safer': 95,\n",
              " 'second': 92,\n",
              " 'selection': 231,\n",
              " 'separate': 130,\n",
              " 'sequence': 209,\n",
              " 'similar': 81,\n",
              " 'simply': 77,\n",
              " 'since': 185,\n",
              " 'single': 102,\n",
              " 'size': 85,\n",
              " 'small': 82,\n",
              " 'so': 59,\n",
              " 'some': 80,\n",
              " 'sounds': 22,\n",
              " 'standard': 195,\n",
              " 'started': 7,\n",
              " 'starting': 233,\n",
              " 'stdin': 158,\n",
              " 'stdout': 70,\n",
              " 'store': 86,\n",
              " 'streams': 135,\n",
              " 'successor': 169,\n",
              " 'such': 211,\n",
              " 'switch': 203,\n",
              " 'symbol': 6,\n",
              " 'symbols': 248,\n",
              " 't': 28,\n",
              " 'tamed': 149,\n",
              " 'terms': 154,\n",
              " 'than': 235,\n",
              " 'that': 175,\n",
              " 'the': 224,\n",
              " 'their': 73,\n",
              " 'they': 83,\n",
              " 'those': 114,\n",
              " 'three': 69,\n",
              " 'through': 174,\n",
              " 'tiger': 112,\n",
              " 'time': 140,\n",
              " 'to': 250,\n",
              " 'too': 12,\n",
              " 'two': 181,\n",
              " 'type': 109,\n",
              " 'typically': 214,\n",
              " 'undergone': 177,\n",
              " 'unix': 89,\n",
              " 'unnecessary': 35,\n",
              " 'update': 96,\n",
              " 'upgrade': 54,\n",
              " 'use': 91,\n",
              " 'used': 178,\n",
              " 'useful': 26,\n",
              " 'using': 200,\n",
              " 'vermin': 120,\n",
              " 'version': 50,\n",
              " 'versions': 94,\n",
              " 'was': 172,\n",
              " 'weighing': 93,\n",
              " 'were': 47,\n",
              " 'when': 30,\n",
              " 'where': 100,\n",
              " 'which': 173,\n",
              " 'wild': 90,\n",
              " 'will': 113,\n",
              " 'with': 148,\n",
              " 'without': 66,\n",
              " 'won': 4,\n",
              " 'world': 213,\n",
              " 'wrong': 212,\n",
              " 'x': 171,\n",
              " 'year': 242,\n",
              " 'yosemite': 14,\n",
              " 'you': 39}"
            ]
          },
          "metadata": {
            "tags": []
          },
          "execution_count": 24
        }
      ]
    },
    {
      "cell_type": "code",
      "metadata": {
        "colab": {
          "base_uri": "https://localhost:8080/"
        },
        "id": "iO_Rwj9lVeUo",
        "outputId": "c6af63d8-0fc4-4fdb-dd87-d015e5d3c3a0"
      },
      "source": [
        "result_matrix = np.zeros((len(b), len(dict1)))\n",
        "result_matrix.shape"
      ],
      "execution_count": null,
      "outputs": [
        {
          "output_type": "execute_result",
          "data": {
            "text/plain": [
              "(22, 254)"
            ]
          },
          "metadata": {
            "tags": []
          },
          "execution_count": 19
        }
      ]
    },
    {
      "cell_type": "code",
      "metadata": {
        "colab": {
          "base_uri": "https://localhost:8080/"
        },
        "id": "GwuAMtArWO-f",
        "outputId": "e946c8d0-be43-4430-e5c1-45232f462edd"
      },
      "source": [
        "for n_sent, sent in enumerate(b):\n",
        "  for word in sent:\n",
        "    result_matrix[n_sent, dict1[word]] += 1\n",
        "result_matrix"
      ],
      "execution_count": null,
      "outputs": [
        {
          "output_type": "execute_result",
          "data": {
            "text/plain": [
              "array([[0., 0., 0., ..., 0., 0., 0.],\n",
              "       [0., 0., 0., ..., 0., 0., 0.],\n",
              "       [0., 0., 0., ..., 0., 0., 0.],\n",
              "       ...,\n",
              "       [0., 0., 0., ..., 0., 0., 0.],\n",
              "       [0., 0., 0., ..., 0., 0., 0.],\n",
              "       [0., 0., 0., ..., 0., 0., 0.]])"
            ]
          },
          "metadata": {
            "tags": []
          },
          "execution_count": 26
        }
      ]
    },
    {
      "cell_type": "code",
      "metadata": {
        "colab": {
          "base_uri": "https://localhost:8080/"
        },
        "id": "_vtBd7jQflf1",
        "outputId": "a540cb9c-6981-47fa-9468-6cd4efb808ab"
      },
      "source": [
        "import scipy.spatial\n",
        "distances = []\n",
        "for row in result_matrix[1:]:\n",
        "  distances.append(scipy.spatial.distance.cosine(result_matrix[0], row))\n",
        "\n",
        "distances = dict(enumerate(distances))\n",
        "#sorted(list(distances.values()))\n",
        "distances"
      ],
      "execution_count": null,
      "outputs": [
        {
          "output_type": "execute_result",
          "data": {
            "text/plain": [
              "{0: 0.9527544408738466,\n",
              " 1: 0.8644738145642124,\n",
              " 2: 0.8951715163278082,\n",
              " 3: 0.7770887149698589,\n",
              " 4: 0.9402385695332803,\n",
              " 5: 0.7327387580875756,\n",
              " 6: 0.9258750683338899,\n",
              " 7: 0.8842724875284311,\n",
              " 8: 0.9055088817476932,\n",
              " 9: 0.8328165362273942,\n",
              " 10: 0.8804771390665607,\n",
              " 11: 0.8396432548525454,\n",
              " 12: 0.8703592552895671,\n",
              " 13: 0.8740118423302576,\n",
              " 14: 0.9442721787424647,\n",
              " 15: 0.8406361854220809,\n",
              " 16: 0.956644501523794,\n",
              " 17: 0.9442721787424647,\n",
              " 18: 0.8885443574849294,\n",
              " 19: 0.8427572744917122,\n",
              " 20: 0.8250364469440588}"
            ]
          },
          "metadata": {
            "tags": []
          },
          "execution_count": 41
        }
      ]
    },
    {
      "cell_type": "code",
      "metadata": {
        "id": "_8x1Qw1wjHn9"
      },
      "source": [
        "with open('submissions1', 'w') as file:\n",
        "  file.write('4 6')"
      ],
      "execution_count": null,
      "outputs": []
    },
    {
      "cell_type": "code",
      "metadata": {
        "id": "gmauE_tdmWmi"
      },
      "source": [
        ""
      ],
      "execution_count": null,
      "outputs": []
    }
  ]
}