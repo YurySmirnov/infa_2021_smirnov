{
  "nbformat": 4,
  "nbformat_minor": 0,
  "metadata": {
    "kernelspec": {
      "display_name": "Python 3",
      "language": "python",
      "name": "python3"
    },
    "language_info": {
      "codemirror_mode": {
        "name": "ipython",
        "version": 3
      },
      "file_extension": ".py",
      "mimetype": "text/x-python",
      "name": "python",
      "nbconvert_exporter": "python",
      "pygments_lexer": "ipython3",
      "version": "3.7.6"
    },
    "colab": {
      "name": "assignment03_decision_trees.ipynb",
      "provenance": [],
      "include_colab_link": true
    }
  },
  "cells": [
    {
      "cell_type": "markdown",
      "metadata": {
        "id": "view-in-github",
        "colab_type": "text"
      },
      "source": [
        "<a href=\"https://colab.research.google.com/github/YurySmirnov/infa_2021_smirnov/blob/main/assignment03_decision_trees.ipynb\" target=\"_parent\"><img src=\"https://colab.research.google.com/assets/colab-badge.svg\" alt=\"Open In Colab\"/></a>"
      ]
    },
    {
      "cell_type": "markdown",
      "metadata": {
        "id": "4moluHqZf3_9"
      },
      "source": [
        "\n",
        "<img src=\"../../img/ods_stickers.jpg\">\n",
        "\n",
        "## <center> [mlcourse.ai](https://mlcourse.ai) – открытый курс OpenDataScience по машинному обучению \n",
        "    \n",
        "Авторы материала: Юрий Кашницкий, программист-исследователь Mail.Ru Group, и Мария Сумарокова, старший эксперт по аналитике VimpelCom. Материал распространяется на условиях лицензии [Creative Commons CC BY-NC-SA 4.0](https://creativecommons.org/licenses/by-nc-sa/4.0/). Можно использовать в любых целях (редактировать, поправлять и брать за основу), кроме коммерческих, но с обязательным упоминанием автора материала"
      ]
    },
    {
      "cell_type": "markdown",
      "metadata": {
        "id": "SC7IwNXrf4AH"
      },
      "source": [
        "# <center>Домашнее задание № 3 (демо). <br>Деревья решений в игрушечной задаче и на данных Adult репозитория UCI\n",
        "\n",
        "**В задании Вам предлагается разобраться с тем, как работает дерево решений, на игрушечном примере, затем обучить и настроить деревья и (при желании) случайный лес в задаче классификации на данных Adult репозитория UCI. Ответьте на все вопросы в этой тетрадке и заполните ответы в [гугл-форме](https://docs.google.com/forms/d/1bC3jNPH7XZUty_DaIvt0fPrsiS8YFkcpeBKHPSG0hw0/edit).**"
      ]
    },
    {
      "cell_type": "markdown",
      "metadata": {
        "id": "BGBFqisof4AJ"
      },
      "source": [
        "Подключаем необходимые библиотеки"
      ]
    },
    {
      "cell_type": "code",
      "metadata": {
        "id": "bmnKhuPhf4AL"
      },
      "source": [
        "%matplotlib inline\n",
        "from matplotlib import pyplot as plt\n",
        "\n",
        "plt.rcParams['figure.figsize'] = (10, 8)\n",
        "import collections\n",
        "\n",
        "import numpy as np\n",
        "import pandas as pd\n",
        "import seaborn as sns\n",
        "from sklearn import preprocessing\n",
        "from sklearn.ensemble import RandomForestClassifier\n",
        "from sklearn.metrics import accuracy_score\n",
        "from sklearn.model_selection import GridSearchCV\n",
        "from sklearn.preprocessing import LabelEncoder\n",
        "from sklearn.tree import DecisionTreeClassifier, export_graphviz"
      ],
      "execution_count": 1,
      "outputs": []
    },
    {
      "cell_type": "markdown",
      "metadata": {
        "id": "A7oJEvakf4AN"
      },
      "source": [
        "## Часть 1. Игрушечный набор данных \"девушка в баре\""
      ]
    },
    {
      "cell_type": "markdown",
      "metadata": {
        "collapsed": true,
        "id": "KYF-Nll8f4AO"
      },
      "source": [
        "**Цель –  \"на пальцах\", с помощью игрушечной задачи классификации разобраться в том, как работают деревья решений. Само по себе дерево решений – довольно слабый алгоритм, но основанные на нем алгоритмы случайного леса и градиентного бустинга - пожалуй, лучшее, что есть на сегодняшний день (в задачах, где можно обойтись без нейронных сетей). Поэтому разобраться в том, как работает дерево решений, полезно.**"
      ]
    },
    {
      "cell_type": "markdown",
      "metadata": {
        "id": "r_ScCvH5f4AQ"
      },
      "source": [
        "**Рассмотрим игрушечную задачу бинарной классификации: поедет ли с Вами девушка из бара? Это будет зависеть от Вашей внешности и красноречия, крепости предлагаемых напитков и, как это ни меркантильно, от количества потраченных в баре денег.**\n",
        "<img src='../../img/toy_data.png'>"
      ]
    },
    {
      "cell_type": "markdown",
      "metadata": {
        "id": "SXx_xl1vf4AR"
      },
      "source": [
        "### Создание набора данных"
      ]
    },
    {
      "cell_type": "code",
      "metadata": {
        "id": "jtqOwK7Xf4AS"
      },
      "source": [
        "# Создание датафрейма с dummy variables\n",
        "def create_df(dic, feature_list):\n",
        "    out = pd.DataFrame(dic)\n",
        "    out = pd.concat([out, pd.get_dummies(out[feature_list])], axis = 1)\n",
        "    out.drop(feature_list, axis = 1, inplace = True)\n",
        "    return out\n",
        "\n",
        "# Некоторые значения признаков есть в тесте, но нет в трейне и наоборот\n",
        "def intersect_features(train, test):\n",
        "    common_feat = list( set(train.keys()) & set(test.keys()))\n",
        "    return train[common_feat], test[common_feat]"
      ],
      "execution_count": 38,
      "outputs": []
    },
    {
      "cell_type": "code",
      "metadata": {
        "id": "ptLOPphWf4AU"
      },
      "source": [
        "features = ['Внешность', 'Алкоголь_в_напитке',\n",
        "            'Уровень_красноречия', 'Потраченные_деньги']"
      ],
      "execution_count": 39,
      "outputs": []
    },
    {
      "cell_type": "markdown",
      "metadata": {
        "id": "N-3TC8KFf4AV"
      },
      "source": [
        "**Обучающая выборка**"
      ]
    },
    {
      "cell_type": "code",
      "metadata": {
        "colab": {
          "base_uri": "https://localhost:8080/",
          "height": 274
        },
        "id": "V5KJnOaCf4AW",
        "outputId": "fdc3c8fe-bf67-4485-ef79-7e3fc19ece1d"
      },
      "source": [
        "df_train = {}\n",
        "df_train['Внешность'] = ['приятная', 'приятная', 'приятная', 'отталкивающая',\n",
        "                         'отталкивающая', 'отталкивающая', 'приятная'] \n",
        "df_train['Алкоголь_в_напитке'] = ['да', 'да', 'нет', 'нет', 'да', 'да', 'да']\n",
        "df_train['Уровень_красноречия'] = ['высокий', 'низкий', 'средний', 'средний', 'низкий',\n",
        "                                   'высокий', 'средний']\n",
        "df_train['Потраченные_деньги'] = ['много', 'мало', 'много', 'мало', 'много',\n",
        "                                  'много', 'много']\n",
        "df_train['Поедет'] = LabelEncoder().fit_transform(['+', '-', '+', '-', '-', '+', '+'])\n",
        "\n",
        "df_train = create_df(df_train, features)\n",
        "df_train"
      ],
      "execution_count": 40,
      "outputs": [
        {
          "output_type": "execute_result",
          "data": {
            "text/html": [
              "<div>\n",
              "<style scoped>\n",
              "    .dataframe tbody tr th:only-of-type {\n",
              "        vertical-align: middle;\n",
              "    }\n",
              "\n",
              "    .dataframe tbody tr th {\n",
              "        vertical-align: top;\n",
              "    }\n",
              "\n",
              "    .dataframe thead th {\n",
              "        text-align: right;\n",
              "    }\n",
              "</style>\n",
              "<table border=\"1\" class=\"dataframe\">\n",
              "  <thead>\n",
              "    <tr style=\"text-align: right;\">\n",
              "      <th></th>\n",
              "      <th>Поедет</th>\n",
              "      <th>Внешность_отталкивающая</th>\n",
              "      <th>Внешность_приятная</th>\n",
              "      <th>Алкоголь_в_напитке_да</th>\n",
              "      <th>Алкоголь_в_напитке_нет</th>\n",
              "      <th>Уровень_красноречия_высокий</th>\n",
              "      <th>Уровень_красноречия_низкий</th>\n",
              "      <th>Уровень_красноречия_средний</th>\n",
              "      <th>Потраченные_деньги_мало</th>\n",
              "      <th>Потраченные_деньги_много</th>\n",
              "    </tr>\n",
              "  </thead>\n",
              "  <tbody>\n",
              "    <tr>\n",
              "      <th>0</th>\n",
              "      <td>0</td>\n",
              "      <td>0</td>\n",
              "      <td>1</td>\n",
              "      <td>1</td>\n",
              "      <td>0</td>\n",
              "      <td>1</td>\n",
              "      <td>0</td>\n",
              "      <td>0</td>\n",
              "      <td>0</td>\n",
              "      <td>1</td>\n",
              "    </tr>\n",
              "    <tr>\n",
              "      <th>1</th>\n",
              "      <td>1</td>\n",
              "      <td>0</td>\n",
              "      <td>1</td>\n",
              "      <td>1</td>\n",
              "      <td>0</td>\n",
              "      <td>0</td>\n",
              "      <td>1</td>\n",
              "      <td>0</td>\n",
              "      <td>1</td>\n",
              "      <td>0</td>\n",
              "    </tr>\n",
              "    <tr>\n",
              "      <th>2</th>\n",
              "      <td>0</td>\n",
              "      <td>0</td>\n",
              "      <td>1</td>\n",
              "      <td>0</td>\n",
              "      <td>1</td>\n",
              "      <td>0</td>\n",
              "      <td>0</td>\n",
              "      <td>1</td>\n",
              "      <td>0</td>\n",
              "      <td>1</td>\n",
              "    </tr>\n",
              "    <tr>\n",
              "      <th>3</th>\n",
              "      <td>1</td>\n",
              "      <td>1</td>\n",
              "      <td>0</td>\n",
              "      <td>0</td>\n",
              "      <td>1</td>\n",
              "      <td>0</td>\n",
              "      <td>0</td>\n",
              "      <td>1</td>\n",
              "      <td>1</td>\n",
              "      <td>0</td>\n",
              "    </tr>\n",
              "    <tr>\n",
              "      <th>4</th>\n",
              "      <td>1</td>\n",
              "      <td>1</td>\n",
              "      <td>0</td>\n",
              "      <td>1</td>\n",
              "      <td>0</td>\n",
              "      <td>0</td>\n",
              "      <td>1</td>\n",
              "      <td>0</td>\n",
              "      <td>0</td>\n",
              "      <td>1</td>\n",
              "    </tr>\n",
              "    <tr>\n",
              "      <th>5</th>\n",
              "      <td>0</td>\n",
              "      <td>1</td>\n",
              "      <td>0</td>\n",
              "      <td>1</td>\n",
              "      <td>0</td>\n",
              "      <td>1</td>\n",
              "      <td>0</td>\n",
              "      <td>0</td>\n",
              "      <td>0</td>\n",
              "      <td>1</td>\n",
              "    </tr>\n",
              "    <tr>\n",
              "      <th>6</th>\n",
              "      <td>0</td>\n",
              "      <td>0</td>\n",
              "      <td>1</td>\n",
              "      <td>1</td>\n",
              "      <td>0</td>\n",
              "      <td>0</td>\n",
              "      <td>0</td>\n",
              "      <td>1</td>\n",
              "      <td>0</td>\n",
              "      <td>1</td>\n",
              "    </tr>\n",
              "  </tbody>\n",
              "</table>\n",
              "</div>"
            ],
            "text/plain": [
              "   Поедет  ...  Потраченные_деньги_много\n",
              "0       0  ...                         1\n",
              "1       1  ...                         0\n",
              "2       0  ...                         1\n",
              "3       1  ...                         0\n",
              "4       1  ...                         1\n",
              "5       0  ...                         1\n",
              "6       0  ...                         1\n",
              "\n",
              "[7 rows x 10 columns]"
            ]
          },
          "metadata": {
            "tags": []
          },
          "execution_count": 40
        }
      ]
    },
    {
      "cell_type": "markdown",
      "metadata": {
        "id": "63nXjQLef4AZ"
      },
      "source": [
        "**Тестовая выборка**"
      ]
    },
    {
      "cell_type": "code",
      "metadata": {
        "colab": {
          "base_uri": "https://localhost:8080/",
          "height": 156
        },
        "id": "dXVygyUQf4Aa",
        "outputId": "7d4b44f5-d305-44f8-fa82-884bfa6fc6f9"
      },
      "source": [
        "df_test = {}\n",
        "df_test['Внешность'] = ['приятная', 'приятная', 'отталкивающая'] \n",
        "df_test['Алкоголь_в_напитке'] = ['нет', 'да', 'да']\n",
        "df_test['Уровень_красноречия'] = ['средний', 'высокий', 'средний']\n",
        "df_test['Потраченные_деньги'] = ['много', 'мало', 'много']\n",
        "df_test = create_df(df_test, features)\n",
        "df_test"
      ],
      "execution_count": 41,
      "outputs": [
        {
          "output_type": "execute_result",
          "data": {
            "text/html": [
              "<div>\n",
              "<style scoped>\n",
              "    .dataframe tbody tr th:only-of-type {\n",
              "        vertical-align: middle;\n",
              "    }\n",
              "\n",
              "    .dataframe tbody tr th {\n",
              "        vertical-align: top;\n",
              "    }\n",
              "\n",
              "    .dataframe thead th {\n",
              "        text-align: right;\n",
              "    }\n",
              "</style>\n",
              "<table border=\"1\" class=\"dataframe\">\n",
              "  <thead>\n",
              "    <tr style=\"text-align: right;\">\n",
              "      <th></th>\n",
              "      <th>Внешность_отталкивающая</th>\n",
              "      <th>Внешность_приятная</th>\n",
              "      <th>Алкоголь_в_напитке_да</th>\n",
              "      <th>Алкоголь_в_напитке_нет</th>\n",
              "      <th>Уровень_красноречия_высокий</th>\n",
              "      <th>Уровень_красноречия_средний</th>\n",
              "      <th>Потраченные_деньги_мало</th>\n",
              "      <th>Потраченные_деньги_много</th>\n",
              "    </tr>\n",
              "  </thead>\n",
              "  <tbody>\n",
              "    <tr>\n",
              "      <th>0</th>\n",
              "      <td>0</td>\n",
              "      <td>1</td>\n",
              "      <td>0</td>\n",
              "      <td>1</td>\n",
              "      <td>0</td>\n",
              "      <td>1</td>\n",
              "      <td>0</td>\n",
              "      <td>1</td>\n",
              "    </tr>\n",
              "    <tr>\n",
              "      <th>1</th>\n",
              "      <td>0</td>\n",
              "      <td>1</td>\n",
              "      <td>1</td>\n",
              "      <td>0</td>\n",
              "      <td>1</td>\n",
              "      <td>0</td>\n",
              "      <td>1</td>\n",
              "      <td>0</td>\n",
              "    </tr>\n",
              "    <tr>\n",
              "      <th>2</th>\n",
              "      <td>1</td>\n",
              "      <td>0</td>\n",
              "      <td>1</td>\n",
              "      <td>0</td>\n",
              "      <td>0</td>\n",
              "      <td>1</td>\n",
              "      <td>0</td>\n",
              "      <td>1</td>\n",
              "    </tr>\n",
              "  </tbody>\n",
              "</table>\n",
              "</div>"
            ],
            "text/plain": [
              "   Внешность_отталкивающая  ...  Потраченные_деньги_много\n",
              "0                        0  ...                         1\n",
              "1                        0  ...                         0\n",
              "2                        1  ...                         1\n",
              "\n",
              "[3 rows x 8 columns]"
            ]
          },
          "metadata": {
            "tags": []
          },
          "execution_count": 41
        }
      ]
    },
    {
      "cell_type": "code",
      "metadata": {
        "colab": {
          "base_uri": "https://localhost:8080/",
          "height": 274
        },
        "id": "ux3xf3yHf4Ac",
        "outputId": "36f06ca4-6620-43cb-f465-d97b7330a73c"
      },
      "source": [
        "# Некоторые значения признаков есть в тесте, но нет в трейне и наоборот\n",
        "y = df_train['Поедет']\n",
        "df_train, df_test = intersect_features(train=df_train, test=df_test)\n",
        "df_train"
      ],
      "execution_count": 42,
      "outputs": [
        {
          "output_type": "execute_result",
          "data": {
            "text/html": [
              "<div>\n",
              "<style scoped>\n",
              "    .dataframe tbody tr th:only-of-type {\n",
              "        vertical-align: middle;\n",
              "    }\n",
              "\n",
              "    .dataframe tbody tr th {\n",
              "        vertical-align: top;\n",
              "    }\n",
              "\n",
              "    .dataframe thead th {\n",
              "        text-align: right;\n",
              "    }\n",
              "</style>\n",
              "<table border=\"1\" class=\"dataframe\">\n",
              "  <thead>\n",
              "    <tr style=\"text-align: right;\">\n",
              "      <th></th>\n",
              "      <th>Внешность_приятная</th>\n",
              "      <th>Потраченные_деньги_много</th>\n",
              "      <th>Уровень_красноречия_высокий</th>\n",
              "      <th>Алкоголь_в_напитке_да</th>\n",
              "      <th>Алкоголь_в_напитке_нет</th>\n",
              "      <th>Уровень_красноречия_средний</th>\n",
              "      <th>Потраченные_деньги_мало</th>\n",
              "      <th>Внешность_отталкивающая</th>\n",
              "    </tr>\n",
              "  </thead>\n",
              "  <tbody>\n",
              "    <tr>\n",
              "      <th>0</th>\n",
              "      <td>1</td>\n",
              "      <td>1</td>\n",
              "      <td>1</td>\n",
              "      <td>1</td>\n",
              "      <td>0</td>\n",
              "      <td>0</td>\n",
              "      <td>0</td>\n",
              "      <td>0</td>\n",
              "    </tr>\n",
              "    <tr>\n",
              "      <th>1</th>\n",
              "      <td>1</td>\n",
              "      <td>0</td>\n",
              "      <td>0</td>\n",
              "      <td>1</td>\n",
              "      <td>0</td>\n",
              "      <td>0</td>\n",
              "      <td>1</td>\n",
              "      <td>0</td>\n",
              "    </tr>\n",
              "    <tr>\n",
              "      <th>2</th>\n",
              "      <td>1</td>\n",
              "      <td>1</td>\n",
              "      <td>0</td>\n",
              "      <td>0</td>\n",
              "      <td>1</td>\n",
              "      <td>1</td>\n",
              "      <td>0</td>\n",
              "      <td>0</td>\n",
              "    </tr>\n",
              "    <tr>\n",
              "      <th>3</th>\n",
              "      <td>0</td>\n",
              "      <td>0</td>\n",
              "      <td>0</td>\n",
              "      <td>0</td>\n",
              "      <td>1</td>\n",
              "      <td>1</td>\n",
              "      <td>1</td>\n",
              "      <td>1</td>\n",
              "    </tr>\n",
              "    <tr>\n",
              "      <th>4</th>\n",
              "      <td>0</td>\n",
              "      <td>1</td>\n",
              "      <td>0</td>\n",
              "      <td>1</td>\n",
              "      <td>0</td>\n",
              "      <td>0</td>\n",
              "      <td>0</td>\n",
              "      <td>1</td>\n",
              "    </tr>\n",
              "    <tr>\n",
              "      <th>5</th>\n",
              "      <td>0</td>\n",
              "      <td>1</td>\n",
              "      <td>1</td>\n",
              "      <td>1</td>\n",
              "      <td>0</td>\n",
              "      <td>0</td>\n",
              "      <td>0</td>\n",
              "      <td>1</td>\n",
              "    </tr>\n",
              "    <tr>\n",
              "      <th>6</th>\n",
              "      <td>1</td>\n",
              "      <td>1</td>\n",
              "      <td>0</td>\n",
              "      <td>1</td>\n",
              "      <td>0</td>\n",
              "      <td>1</td>\n",
              "      <td>0</td>\n",
              "      <td>0</td>\n",
              "    </tr>\n",
              "  </tbody>\n",
              "</table>\n",
              "</div>"
            ],
            "text/plain": [
              "   Внешность_приятная  ...  Внешность_отталкивающая\n",
              "0                   1  ...                        0\n",
              "1                   1  ...                        0\n",
              "2                   1  ...                        0\n",
              "3                   0  ...                        1\n",
              "4                   0  ...                        1\n",
              "5                   0  ...                        1\n",
              "6                   1  ...                        0\n",
              "\n",
              "[7 rows x 8 columns]"
            ]
          },
          "metadata": {
            "tags": []
          },
          "execution_count": 42
        }
      ]
    },
    {
      "cell_type": "code",
      "metadata": {
        "colab": {
          "base_uri": "https://localhost:8080/",
          "height": 156
        },
        "id": "Cbh8zTflf4Ad",
        "outputId": "7840516a-ec98-45bf-d408-21944f527725"
      },
      "source": [
        "df_test"
      ],
      "execution_count": 43,
      "outputs": [
        {
          "output_type": "execute_result",
          "data": {
            "text/html": [
              "<div>\n",
              "<style scoped>\n",
              "    .dataframe tbody tr th:only-of-type {\n",
              "        vertical-align: middle;\n",
              "    }\n",
              "\n",
              "    .dataframe tbody tr th {\n",
              "        vertical-align: top;\n",
              "    }\n",
              "\n",
              "    .dataframe thead th {\n",
              "        text-align: right;\n",
              "    }\n",
              "</style>\n",
              "<table border=\"1\" class=\"dataframe\">\n",
              "  <thead>\n",
              "    <tr style=\"text-align: right;\">\n",
              "      <th></th>\n",
              "      <th>Внешность_приятная</th>\n",
              "      <th>Потраченные_деньги_много</th>\n",
              "      <th>Уровень_красноречия_высокий</th>\n",
              "      <th>Алкоголь_в_напитке_да</th>\n",
              "      <th>Алкоголь_в_напитке_нет</th>\n",
              "      <th>Уровень_красноречия_средний</th>\n",
              "      <th>Потраченные_деньги_мало</th>\n",
              "      <th>Внешность_отталкивающая</th>\n",
              "    </tr>\n",
              "  </thead>\n",
              "  <tbody>\n",
              "    <tr>\n",
              "      <th>0</th>\n",
              "      <td>1</td>\n",
              "      <td>1</td>\n",
              "      <td>0</td>\n",
              "      <td>0</td>\n",
              "      <td>1</td>\n",
              "      <td>1</td>\n",
              "      <td>0</td>\n",
              "      <td>0</td>\n",
              "    </tr>\n",
              "    <tr>\n",
              "      <th>1</th>\n",
              "      <td>1</td>\n",
              "      <td>0</td>\n",
              "      <td>1</td>\n",
              "      <td>1</td>\n",
              "      <td>0</td>\n",
              "      <td>0</td>\n",
              "      <td>1</td>\n",
              "      <td>0</td>\n",
              "    </tr>\n",
              "    <tr>\n",
              "      <th>2</th>\n",
              "      <td>0</td>\n",
              "      <td>1</td>\n",
              "      <td>0</td>\n",
              "      <td>1</td>\n",
              "      <td>0</td>\n",
              "      <td>1</td>\n",
              "      <td>0</td>\n",
              "      <td>1</td>\n",
              "    </tr>\n",
              "  </tbody>\n",
              "</table>\n",
              "</div>"
            ],
            "text/plain": [
              "   Внешность_приятная  ...  Внешность_отталкивающая\n",
              "0                   1  ...                        0\n",
              "1                   1  ...                        0\n",
              "2                   0  ...                        1\n",
              "\n",
              "[3 rows x 8 columns]"
            ]
          },
          "metadata": {
            "tags": []
          },
          "execution_count": 43
        }
      ]
    },
    {
      "cell_type": "markdown",
      "metadata": {
        "id": "ClsLWF8Of4Ae"
      },
      "source": [
        "**Постройте от руки (или в графическом редакторе) дерево решений для этого набора данных. Дополнительно (для желающих) – можете сделать отрисовку дерева и написать код для построения всего дерева.**"
      ]
    },
    {
      "cell_type": "markdown",
      "metadata": {
        "id": "xbZ-Kh8af4Af"
      },
      "source": [
        "<font color='red'>Вопрос 1.</font> Какова энтропия начальной системы ($S_0$)? Под состояниями системы понимаем значения признака \"Поедет\" – 0 или 1 (то есть всего 2 состояния)."
      ]
    },
    {
      "cell_type": "markdown",
      "metadata": {
        "id": "7DL91eLBf4Af"
      },
      "source": [
        "<font color='red'>Вопрос 2. </font> Рассмотрим разбиение обучающей выборки по признаку \"Внешность\\_приятная\". Какова энтропия  $S_1$ левой группы, тех, у кого внешность приятная, и правой группы – $S_2$? Каков прирост информации  при данном разбиении (IG)? "
      ]
    },
    {
      "cell_type": "code",
      "metadata": {
        "collapsed": true,
        "id": "tioqMs6if4Ag"
      },
      "source": [
        "# Ваш код здесь"
      ],
      "execution_count": 30,
      "outputs": []
    },
    {
      "cell_type": "markdown",
      "metadata": {
        "id": "-yZmR5qbf4Ah"
      },
      "source": [
        "**Постройте с помощью `sklearn` дерево решений, обучив его на обучающей выборке. Глубину можно не ограничивать.**"
      ]
    },
    {
      "cell_type": "code",
      "metadata": {
        "collapsed": true,
        "id": "XYvB3K4mf4Ah"
      },
      "source": [
        "# Ваш код здесь"
      ],
      "execution_count": 31,
      "outputs": []
    },
    {
      "cell_type": "markdown",
      "metadata": {
        "id": "ZuxNP-Uff4Ai"
      },
      "source": [
        "**Дополнительно: отобразите дерево с помощью graphviz. Можно использовать `pydot` или, например, [онлайн-сервис](https://www.coolutils.com/ru/online/DOT-to-PNG) dot2png.**"
      ]
    },
    {
      "cell_type": "code",
      "metadata": {
        "collapsed": true,
        "id": "A2HY_kcBf4Aj"
      },
      "source": [
        "# Ваш код здесь"
      ],
      "execution_count": 32,
      "outputs": []
    },
    {
      "cell_type": "markdown",
      "metadata": {
        "id": "7EQTLLMYf4Ak"
      },
      "source": [
        "## Часть 2. Функции для расчета энтропии и прироста информации"
      ]
    },
    {
      "cell_type": "markdown",
      "metadata": {
        "id": "3JPlr-2bf4Ak"
      },
      "source": [
        "Примерчик для проверки: 9 синих шариков и 11 желтых. Пусть шарик находится в состоянии \"1\", если он синий и \"0\" – если он желтый."
      ]
    },
    {
      "cell_type": "code",
      "metadata": {
        "collapsed": true,
        "id": "grySUcbHf4Al"
      },
      "source": [
        "balls = [1 for i in range(9)] + [0 for i in range(11)]"
      ],
      "execution_count": 46,
      "outputs": []
    },
    {
      "cell_type": "markdown",
      "metadata": {
        "id": "dJCKbmk0f4Al"
      },
      "source": [
        "![png](../../img/decision_tree3.png)"
      ]
    },
    {
      "cell_type": "markdown",
      "metadata": {
        "id": "5gvaYOdef4Am"
      },
      "source": [
        "Дальше пусть шарики разбиваются на 2 группы\n",
        "![png](../../img/decision_tree4.png)"
      ]
    },
    {
      "cell_type": "code",
      "metadata": {
        "collapsed": true,
        "id": "3TGCJWFhf4An"
      },
      "source": [
        "# две группы\n",
        "balls_left  = [1 for i in range(8)] + [0 for i in range(5)] # 8 синих и 5 желтых\n",
        "balls_right = [1 for i in range(1)] + [0 for i in range(6)] # 1 синий и 6 желтых"
      ],
      "execution_count": 47,
      "outputs": []
    },
    {
      "cell_type": "markdown",
      "metadata": {
        "id": "C-5kBsEdf4An"
      },
      "source": [
        "**Реализуйте функцию для расчета энтропии Шеннона.**"
      ]
    },
    {
      "cell_type": "code",
      "metadata": {
        "collapsed": true,
        "id": "afzJZTH7f4Ao"
      },
      "source": [
        "def entropy(a_list):\n",
        "    l = len(a_list)\n",
        "    result = 0\n",
        "    s = set(a_list)\n",
        "    for el in s:\n",
        "      n = a_list.count(el)\n",
        "      result += n/l*np.log2(n/l)\n",
        "    return -result"
      ],
      "execution_count": 44,
      "outputs": []
    },
    {
      "cell_type": "markdown",
      "metadata": {
        "id": "OLEy9UA_f4Ap"
      },
      "source": [
        "Проверка"
      ]
    },
    {
      "cell_type": "code",
      "metadata": {
        "collapsed": true,
        "colab": {
          "base_uri": "https://localhost:8080/"
        },
        "id": "9BvPLZQ5f4Ap",
        "outputId": "76100731-da01-4cc5-e704-8ef93bb537fe"
      },
      "source": [
        "print(entropy(balls)) # 9 синих и 11 желтых\n",
        "print(entropy(balls_left)) # 8 синих и 5 желтых\n",
        "print(entropy(balls_right)) # 1 синий и 6 желтых\n",
        "print(entropy([1,2,3,4,5,6])) # энтропия игральной кости с несмещенным центром тяжести"
      ],
      "execution_count": 48,
      "outputs": [
        {
          "output_type": "stream",
          "text": [
            "0.9927744539878083\n",
            "0.9612366047228759\n",
            "0.5916727785823275\n",
            "2.584962500721156\n"
          ],
          "name": "stdout"
        }
      ]
    },
    {
      "cell_type": "markdown",
      "metadata": {
        "id": "3bnHnuQlf4Aq"
      },
      "source": [
        "<font color='red'>Вопрос 3.</font> Чему равна энтропия состояния, заданного списком `balls_left`?"
      ]
    },
    {
      "cell_type": "markdown",
      "metadata": {
        "id": "N522WOxJf4Ar"
      },
      "source": [
        "<font color='red'>Вопрос 4.</font> Чему равна энтропия игральной кости с несмещенным центром тяжести?"
      ]
    },
    {
      "cell_type": "code",
      "metadata": {
        "collapsed": true,
        "id": "selOPIltf4Ar"
      },
      "source": [
        "# расчет прироста информации\n",
        "\n",
        "def information_gain(root, left, right):\n",
        "    ''' root - изначальный набор данных, left и right два разбиения изначального набора'''\n",
        "    \n",
        "    return entropy(root) - len(left)/len(root)*entropy(left) - len(right)/len(root)*entropy(right)"
      ],
      "execution_count": 49,
      "outputs": []
    },
    {
      "cell_type": "markdown",
      "metadata": {
        "id": "WLG0T2Zif4As"
      },
      "source": [
        "<font color='red'>Вопрос 5.  </font> Каков прирост информации при разделении выборки на `balls_left` и `balls_right`?"
      ]
    },
    {
      "cell_type": "code",
      "metadata": {
        "collapsed": true,
        "colab": {
          "base_uri": "https://localhost:8080/"
        },
        "id": "I0ctiplBf4At",
        "outputId": "99a106ea-2fb2-4f48-ff8a-82cd3e41ab3e"
      },
      "source": [
        "information_gain(balls, balls_left, balls_right)"
      ],
      "execution_count": 50,
      "outputs": [
        {
          "output_type": "execute_result",
          "data": {
            "text/plain": [
              "0.16088518841412436"
            ]
          },
          "metadata": {
            "tags": []
          },
          "execution_count": 50
        }
      ]
    },
    {
      "cell_type": "code",
      "metadata": {
        "collapsed": true,
        "id": "UAuHGQpIf4At"
      },
      "source": [
        "def best_feature_to_split(X, y):\n",
        "    ''' Выводит прирост информации при разбиении по каждому признаку'''\n",
        "    \n",
        "    # Ваш код здесь\n",
        "    pass"
      ],
      "execution_count": 39,
      "outputs": []
    },
    {
      "cell_type": "markdown",
      "metadata": {
        "id": "Y39CUG98f4Au"
      },
      "source": [
        "**Опционально:**\n",
        "\n",
        " - реализуйте алгоритм построения дерева за счет рекурсивного вызова функции `best_feature_to_split`\n",
        " - нарисуйте полученное дерево"
      ]
    },
    {
      "cell_type": "markdown",
      "metadata": {
        "id": "LorvOz5uf4Au"
      },
      "source": [
        "## Часть 3. Набор данных \"Adult\""
      ]
    },
    {
      "cell_type": "markdown",
      "metadata": {
        "id": "QXSGvbCIf4Av"
      },
      "source": [
        "**Описание набора:**"
      ]
    },
    {
      "cell_type": "markdown",
      "metadata": {
        "id": "pgnA9sUqf4Aw"
      },
      "source": [
        "**[Набор](http://archive.ics.uci.edu/ml/machine-learning-databases/adult) данных UCI Adult** (качать не надо, все есть в репозитории): классификация людей с помощью демографических данных для прогнозирования, зарабатывает ли человек более \\$ 50 000 в год.\n",
        "\n",
        "Описание признаков: \n",
        "\n",
        "**Age** – возраст, количественный признак  \n",
        "**Workclass** – тип работодателя, количественный признак  \n",
        "**fnlwgt** – итоговый вес обьекта, количественный признак    \n",
        "**Education** – уровень образования, качественный признак  \n",
        "**Education_Num** – количество лет обучения, количественный признак  \n",
        "**Martial_Status** – семейное положение, категориальный признак  \n",
        "**Occupation** – профессия, категориальный признак  \n",
        "**Relationship** – тип семейных отношений, категориальный признак    \n",
        "**Race** – раса, категориальный признак  \n",
        "**Sex** – пол, качественный признак  \n",
        "**Capital_Gain** – прирост капитала, количественный признак  \n",
        "**Capital_Loss** – потери капитала, количественный признак  \n",
        "**Hours_per_week** – количество часов работы в неделю, количественный признак  \n",
        "**Country** – страна, категориальный признак  \n",
        "   \n",
        "Целевая переменная: **Target** – уровень заработка, категориальный (бинарный) признак  "
      ]
    },
    {
      "cell_type": "markdown",
      "metadata": {
        "id": "mIjQK1b9f4Az"
      },
      "source": [
        "**Считываем обучающую и тестовую выборки.**"
      ]
    },
    {
      "cell_type": "code",
      "metadata": {
        "collapsed": true,
        "colab": {
          "base_uri": "https://localhost:8080/",
          "height": 299
        },
        "id": "Xy8OCd1of4A0",
        "outputId": "4ad4d8da-2624-4e66-ca29-2d9c290e19d6"
      },
      "source": [
        "data_train = pd.read_csv('/content/adult_train[1].csv') \n",
        "data_train.tail()"
      ],
      "execution_count": 2,
      "outputs": [
        {
          "output_type": "execute_result",
          "data": {
            "text/html": [
              "<div>\n",
              "<style scoped>\n",
              "    .dataframe tbody tr th:only-of-type {\n",
              "        vertical-align: middle;\n",
              "    }\n",
              "\n",
              "    .dataframe tbody tr th {\n",
              "        vertical-align: top;\n",
              "    }\n",
              "\n",
              "    .dataframe thead th {\n",
              "        text-align: right;\n",
              "    }\n",
              "</style>\n",
              "<table border=\"1\" class=\"dataframe\">\n",
              "  <thead>\n",
              "    <tr style=\"text-align: right;\">\n",
              "      <th></th>\n",
              "      <th>Age</th>\n",
              "      <th>Workclass</th>\n",
              "      <th>fnlwgt</th>\n",
              "      <th>Education</th>\n",
              "      <th>Education_Num</th>\n",
              "      <th>Martial_Status</th>\n",
              "      <th>Occupation</th>\n",
              "      <th>Relationship</th>\n",
              "      <th>Race</th>\n",
              "      <th>Sex</th>\n",
              "      <th>Capital_Gain</th>\n",
              "      <th>Capital_Loss</th>\n",
              "      <th>Hours_per_week</th>\n",
              "      <th>Country</th>\n",
              "      <th>Target</th>\n",
              "    </tr>\n",
              "  </thead>\n",
              "  <tbody>\n",
              "    <tr>\n",
              "      <th>32556</th>\n",
              "      <td>27</td>\n",
              "      <td>Private</td>\n",
              "      <td>257302</td>\n",
              "      <td>Assoc-acdm</td>\n",
              "      <td>12</td>\n",
              "      <td>Married-civ-spouse</td>\n",
              "      <td>Tech-support</td>\n",
              "      <td>Wife</td>\n",
              "      <td>White</td>\n",
              "      <td>Female</td>\n",
              "      <td>0</td>\n",
              "      <td>0</td>\n",
              "      <td>38</td>\n",
              "      <td>United-States</td>\n",
              "      <td>&lt;=50K</td>\n",
              "    </tr>\n",
              "    <tr>\n",
              "      <th>32557</th>\n",
              "      <td>40</td>\n",
              "      <td>Private</td>\n",
              "      <td>154374</td>\n",
              "      <td>HS-grad</td>\n",
              "      <td>9</td>\n",
              "      <td>Married-civ-spouse</td>\n",
              "      <td>Machine-op-inspct</td>\n",
              "      <td>Husband</td>\n",
              "      <td>White</td>\n",
              "      <td>Male</td>\n",
              "      <td>0</td>\n",
              "      <td>0</td>\n",
              "      <td>40</td>\n",
              "      <td>United-States</td>\n",
              "      <td>&gt;50K</td>\n",
              "    </tr>\n",
              "    <tr>\n",
              "      <th>32558</th>\n",
              "      <td>58</td>\n",
              "      <td>Private</td>\n",
              "      <td>151910</td>\n",
              "      <td>HS-grad</td>\n",
              "      <td>9</td>\n",
              "      <td>Widowed</td>\n",
              "      <td>Adm-clerical</td>\n",
              "      <td>Unmarried</td>\n",
              "      <td>White</td>\n",
              "      <td>Female</td>\n",
              "      <td>0</td>\n",
              "      <td>0</td>\n",
              "      <td>40</td>\n",
              "      <td>United-States</td>\n",
              "      <td>&lt;=50K</td>\n",
              "    </tr>\n",
              "    <tr>\n",
              "      <th>32559</th>\n",
              "      <td>22</td>\n",
              "      <td>Private</td>\n",
              "      <td>201490</td>\n",
              "      <td>HS-grad</td>\n",
              "      <td>9</td>\n",
              "      <td>Never-married</td>\n",
              "      <td>Adm-clerical</td>\n",
              "      <td>Own-child</td>\n",
              "      <td>White</td>\n",
              "      <td>Male</td>\n",
              "      <td>0</td>\n",
              "      <td>0</td>\n",
              "      <td>20</td>\n",
              "      <td>United-States</td>\n",
              "      <td>&lt;=50K</td>\n",
              "    </tr>\n",
              "    <tr>\n",
              "      <th>32560</th>\n",
              "      <td>52</td>\n",
              "      <td>Self-emp-inc</td>\n",
              "      <td>287927</td>\n",
              "      <td>HS-grad</td>\n",
              "      <td>9</td>\n",
              "      <td>Married-civ-spouse</td>\n",
              "      <td>Exec-managerial</td>\n",
              "      <td>Wife</td>\n",
              "      <td>White</td>\n",
              "      <td>Female</td>\n",
              "      <td>15024</td>\n",
              "      <td>0</td>\n",
              "      <td>40</td>\n",
              "      <td>United-States</td>\n",
              "      <td>&gt;50K</td>\n",
              "    </tr>\n",
              "  </tbody>\n",
              "</table>\n",
              "</div>"
            ],
            "text/plain": [
              "       Age      Workclass  fnlwgt  ... Hours_per_week         Country  Target\n",
              "32556   27        Private  257302  ...             38   United-States   <=50K\n",
              "32557   40        Private  154374  ...             40   United-States    >50K\n",
              "32558   58        Private  151910  ...             40   United-States   <=50K\n",
              "32559   22        Private  201490  ...             20   United-States   <=50K\n",
              "32560   52   Self-emp-inc  287927  ...             40   United-States    >50K\n",
              "\n",
              "[5 rows x 15 columns]"
            ]
          },
          "metadata": {
            "tags": []
          },
          "execution_count": 2
        }
      ]
    },
    {
      "cell_type": "code",
      "metadata": {
        "collapsed": true,
        "colab": {
          "base_uri": "https://localhost:8080/",
          "height": 316
        },
        "id": "7GvhFhVef4A1",
        "outputId": "25518b85-042a-407f-a4bf-fdbefffd6b7f"
      },
      "source": [
        "data_test = pd.read_csv('/content/adult_test[1].csv') \n",
        "data_test.tail()"
      ],
      "execution_count": 3,
      "outputs": [
        {
          "output_type": "execute_result",
          "data": {
            "text/html": [
              "<div>\n",
              "<style scoped>\n",
              "    .dataframe tbody tr th:only-of-type {\n",
              "        vertical-align: middle;\n",
              "    }\n",
              "\n",
              "    .dataframe tbody tr th {\n",
              "        vertical-align: top;\n",
              "    }\n",
              "\n",
              "    .dataframe thead th {\n",
              "        text-align: right;\n",
              "    }\n",
              "</style>\n",
              "<table border=\"1\" class=\"dataframe\">\n",
              "  <thead>\n",
              "    <tr style=\"text-align: right;\">\n",
              "      <th></th>\n",
              "      <th>Age</th>\n",
              "      <th>Workclass</th>\n",
              "      <th>fnlwgt</th>\n",
              "      <th>Education</th>\n",
              "      <th>Education_Num</th>\n",
              "      <th>Martial_Status</th>\n",
              "      <th>Occupation</th>\n",
              "      <th>Relationship</th>\n",
              "      <th>Race</th>\n",
              "      <th>Sex</th>\n",
              "      <th>Capital_Gain</th>\n",
              "      <th>Capital_Loss</th>\n",
              "      <th>Hours_per_week</th>\n",
              "      <th>Country</th>\n",
              "      <th>Target</th>\n",
              "    </tr>\n",
              "  </thead>\n",
              "  <tbody>\n",
              "    <tr>\n",
              "      <th>16277</th>\n",
              "      <td>39</td>\n",
              "      <td>Private</td>\n",
              "      <td>215419.0</td>\n",
              "      <td>Bachelors</td>\n",
              "      <td>13.0</td>\n",
              "      <td>Divorced</td>\n",
              "      <td>Prof-specialty</td>\n",
              "      <td>Not-in-family</td>\n",
              "      <td>White</td>\n",
              "      <td>Female</td>\n",
              "      <td>0.0</td>\n",
              "      <td>0.0</td>\n",
              "      <td>36.0</td>\n",
              "      <td>United-States</td>\n",
              "      <td>&lt;=50K.</td>\n",
              "    </tr>\n",
              "    <tr>\n",
              "      <th>16278</th>\n",
              "      <td>64</td>\n",
              "      <td>NaN</td>\n",
              "      <td>321403.0</td>\n",
              "      <td>HS-grad</td>\n",
              "      <td>9.0</td>\n",
              "      <td>Widowed</td>\n",
              "      <td>NaN</td>\n",
              "      <td>Other-relative</td>\n",
              "      <td>Black</td>\n",
              "      <td>Male</td>\n",
              "      <td>0.0</td>\n",
              "      <td>0.0</td>\n",
              "      <td>40.0</td>\n",
              "      <td>United-States</td>\n",
              "      <td>&lt;=50K.</td>\n",
              "    </tr>\n",
              "    <tr>\n",
              "      <th>16279</th>\n",
              "      <td>38</td>\n",
              "      <td>Private</td>\n",
              "      <td>374983.0</td>\n",
              "      <td>Bachelors</td>\n",
              "      <td>13.0</td>\n",
              "      <td>Married-civ-spouse</td>\n",
              "      <td>Prof-specialty</td>\n",
              "      <td>Husband</td>\n",
              "      <td>White</td>\n",
              "      <td>Male</td>\n",
              "      <td>0.0</td>\n",
              "      <td>0.0</td>\n",
              "      <td>50.0</td>\n",
              "      <td>United-States</td>\n",
              "      <td>&lt;=50K.</td>\n",
              "    </tr>\n",
              "    <tr>\n",
              "      <th>16280</th>\n",
              "      <td>44</td>\n",
              "      <td>Private</td>\n",
              "      <td>83891.0</td>\n",
              "      <td>Bachelors</td>\n",
              "      <td>13.0</td>\n",
              "      <td>Divorced</td>\n",
              "      <td>Adm-clerical</td>\n",
              "      <td>Own-child</td>\n",
              "      <td>Asian-Pac-Islander</td>\n",
              "      <td>Male</td>\n",
              "      <td>5455.0</td>\n",
              "      <td>0.0</td>\n",
              "      <td>40.0</td>\n",
              "      <td>United-States</td>\n",
              "      <td>&lt;=50K.</td>\n",
              "    </tr>\n",
              "    <tr>\n",
              "      <th>16281</th>\n",
              "      <td>35</td>\n",
              "      <td>Self-emp-inc</td>\n",
              "      <td>182148.0</td>\n",
              "      <td>Bachelors</td>\n",
              "      <td>13.0</td>\n",
              "      <td>Married-civ-spouse</td>\n",
              "      <td>Exec-managerial</td>\n",
              "      <td>Husband</td>\n",
              "      <td>White</td>\n",
              "      <td>Male</td>\n",
              "      <td>0.0</td>\n",
              "      <td>0.0</td>\n",
              "      <td>60.0</td>\n",
              "      <td>United-States</td>\n",
              "      <td>&gt;50K.</td>\n",
              "    </tr>\n",
              "  </tbody>\n",
              "</table>\n",
              "</div>"
            ],
            "text/plain": [
              "      Age      Workclass    fnlwgt  ... Hours_per_week         Country   Target\n",
              "16277  39        Private  215419.0  ...           36.0   United-States   <=50K.\n",
              "16278  64            NaN  321403.0  ...           40.0   United-States   <=50K.\n",
              "16279  38        Private  374983.0  ...           50.0   United-States   <=50K.\n",
              "16280  44        Private   83891.0  ...           40.0   United-States   <=50K.\n",
              "16281  35   Self-emp-inc  182148.0  ...           60.0   United-States    >50K.\n",
              "\n",
              "[5 rows x 15 columns]"
            ]
          },
          "metadata": {
            "tags": []
          },
          "execution_count": 3
        }
      ]
    },
    {
      "cell_type": "code",
      "metadata": {
        "colab": {
          "base_uri": "https://localhost:8080/"
        },
        "id": "258exQHwimtr",
        "outputId": "44b79114-d4cc-4927-d848-b2e9b05bd6cc"
      },
      "source": [
        "data_test['Target'].unique()"
      ],
      "execution_count": 4,
      "outputs": [
        {
          "output_type": "execute_result",
          "data": {
            "text/plain": [
              "array([nan, ' <=50K.', ' >50K.'], dtype=object)"
            ]
          },
          "metadata": {
            "tags": []
          },
          "execution_count": 4
        }
      ]
    },
    {
      "cell_type": "code",
      "metadata": {
        "collapsed": true,
        "id": "9kWnMVn3f4A3"
      },
      "source": [
        "# необходимо убрать строки с неправильными метками в тестовой выборке\n",
        "data_test = data_test[(data_test['Target'] == ' >50K.') \n",
        "                      | (data_test['Target']==' <=50K.')]\n",
        "\n",
        "# перекодируем target в числовое поле\n",
        "data_train.at[data_train['Target'] == ' <=50K', 'Target'] = 0\n",
        "data_train.at[data_train['Target'] == ' >50K', 'Target'] = 1\n",
        "\n",
        "data_test.at[data_test['Target'] == ' <=50K.', 'Target'] = 0\n",
        "data_test.at[data_test['Target'] == ' >50K.', 'Target'] = 1"
      ],
      "execution_count": 5,
      "outputs": []
    },
    {
      "cell_type": "markdown",
      "metadata": {
        "id": "Jdf7UH9bf4A3"
      },
      "source": [
        "**Первичный анализ данных.**"
      ]
    },
    {
      "cell_type": "code",
      "metadata": {
        "colab": {
          "base_uri": "https://localhost:8080/"
        },
        "id": "zuJsTzmAidIw",
        "outputId": "e2b9d184-7394-410e-da36-d58d69714dca"
      },
      "source": [
        "data_test.dtypes"
      ],
      "execution_count": 6,
      "outputs": [
        {
          "output_type": "execute_result",
          "data": {
            "text/plain": [
              "Age                object\n",
              "Workclass          object\n",
              "fnlwgt            float64\n",
              "Education          object\n",
              "Education_Num     float64\n",
              "Martial_Status     object\n",
              "Occupation         object\n",
              "Relationship       object\n",
              "Race               object\n",
              "Sex                object\n",
              "Capital_Gain      float64\n",
              "Capital_Loss      float64\n",
              "Hours_per_week    float64\n",
              "Country            object\n",
              "Target             object\n",
              "dtype: object"
            ]
          },
          "metadata": {
            "tags": []
          },
          "execution_count": 6
        }
      ]
    },
    {
      "cell_type": "code",
      "metadata": {
        "colab": {
          "base_uri": "https://localhost:8080/",
          "height": 491
        },
        "id": "vzdLAZpXf4A4",
        "outputId": "1d7fc610-fd66-4ab4-af7a-277e07f84799"
      },
      "source": [
        "data_test.describe(include='all').T"
      ],
      "execution_count": 7,
      "outputs": [
        {
          "output_type": "execute_result",
          "data": {
            "text/html": [
              "<div>\n",
              "<style scoped>\n",
              "    .dataframe tbody tr th:only-of-type {\n",
              "        vertical-align: middle;\n",
              "    }\n",
              "\n",
              "    .dataframe tbody tr th {\n",
              "        vertical-align: top;\n",
              "    }\n",
              "\n",
              "    .dataframe thead th {\n",
              "        text-align: right;\n",
              "    }\n",
              "</style>\n",
              "<table border=\"1\" class=\"dataframe\">\n",
              "  <thead>\n",
              "    <tr style=\"text-align: right;\">\n",
              "      <th></th>\n",
              "      <th>count</th>\n",
              "      <th>unique</th>\n",
              "      <th>top</th>\n",
              "      <th>freq</th>\n",
              "      <th>mean</th>\n",
              "      <th>std</th>\n",
              "      <th>min</th>\n",
              "      <th>25%</th>\n",
              "      <th>50%</th>\n",
              "      <th>75%</th>\n",
              "      <th>max</th>\n",
              "    </tr>\n",
              "  </thead>\n",
              "  <tbody>\n",
              "    <tr>\n",
              "      <th>Age</th>\n",
              "      <td>16281</td>\n",
              "      <td>73</td>\n",
              "      <td>35</td>\n",
              "      <td>461</td>\n",
              "      <td>NaN</td>\n",
              "      <td>NaN</td>\n",
              "      <td>NaN</td>\n",
              "      <td>NaN</td>\n",
              "      <td>NaN</td>\n",
              "      <td>NaN</td>\n",
              "      <td>NaN</td>\n",
              "    </tr>\n",
              "    <tr>\n",
              "      <th>Workclass</th>\n",
              "      <td>15318</td>\n",
              "      <td>8</td>\n",
              "      <td>Private</td>\n",
              "      <td>11210</td>\n",
              "      <td>NaN</td>\n",
              "      <td>NaN</td>\n",
              "      <td>NaN</td>\n",
              "      <td>NaN</td>\n",
              "      <td>NaN</td>\n",
              "      <td>NaN</td>\n",
              "      <td>NaN</td>\n",
              "    </tr>\n",
              "    <tr>\n",
              "      <th>fnlwgt</th>\n",
              "      <td>16281</td>\n",
              "      <td>NaN</td>\n",
              "      <td>NaN</td>\n",
              "      <td>NaN</td>\n",
              "      <td>189436</td>\n",
              "      <td>105715</td>\n",
              "      <td>13492</td>\n",
              "      <td>116736</td>\n",
              "      <td>177831</td>\n",
              "      <td>238384</td>\n",
              "      <td>1.4904e+06</td>\n",
              "    </tr>\n",
              "    <tr>\n",
              "      <th>Education</th>\n",
              "      <td>16281</td>\n",
              "      <td>16</td>\n",
              "      <td>HS-grad</td>\n",
              "      <td>5283</td>\n",
              "      <td>NaN</td>\n",
              "      <td>NaN</td>\n",
              "      <td>NaN</td>\n",
              "      <td>NaN</td>\n",
              "      <td>NaN</td>\n",
              "      <td>NaN</td>\n",
              "      <td>NaN</td>\n",
              "    </tr>\n",
              "    <tr>\n",
              "      <th>Education_Num</th>\n",
              "      <td>16281</td>\n",
              "      <td>NaN</td>\n",
              "      <td>NaN</td>\n",
              "      <td>NaN</td>\n",
              "      <td>10.0729</td>\n",
              "      <td>2.56755</td>\n",
              "      <td>1</td>\n",
              "      <td>9</td>\n",
              "      <td>10</td>\n",
              "      <td>12</td>\n",
              "      <td>16</td>\n",
              "    </tr>\n",
              "    <tr>\n",
              "      <th>Martial_Status</th>\n",
              "      <td>16281</td>\n",
              "      <td>7</td>\n",
              "      <td>Married-civ-spouse</td>\n",
              "      <td>7403</td>\n",
              "      <td>NaN</td>\n",
              "      <td>NaN</td>\n",
              "      <td>NaN</td>\n",
              "      <td>NaN</td>\n",
              "      <td>NaN</td>\n",
              "      <td>NaN</td>\n",
              "      <td>NaN</td>\n",
              "    </tr>\n",
              "    <tr>\n",
              "      <th>Occupation</th>\n",
              "      <td>15315</td>\n",
              "      <td>14</td>\n",
              "      <td>Prof-specialty</td>\n",
              "      <td>2032</td>\n",
              "      <td>NaN</td>\n",
              "      <td>NaN</td>\n",
              "      <td>NaN</td>\n",
              "      <td>NaN</td>\n",
              "      <td>NaN</td>\n",
              "      <td>NaN</td>\n",
              "      <td>NaN</td>\n",
              "    </tr>\n",
              "    <tr>\n",
              "      <th>Relationship</th>\n",
              "      <td>16281</td>\n",
              "      <td>6</td>\n",
              "      <td>Husband</td>\n",
              "      <td>6523</td>\n",
              "      <td>NaN</td>\n",
              "      <td>NaN</td>\n",
              "      <td>NaN</td>\n",
              "      <td>NaN</td>\n",
              "      <td>NaN</td>\n",
              "      <td>NaN</td>\n",
              "      <td>NaN</td>\n",
              "    </tr>\n",
              "    <tr>\n",
              "      <th>Race</th>\n",
              "      <td>16281</td>\n",
              "      <td>5</td>\n",
              "      <td>White</td>\n",
              "      <td>13946</td>\n",
              "      <td>NaN</td>\n",
              "      <td>NaN</td>\n",
              "      <td>NaN</td>\n",
              "      <td>NaN</td>\n",
              "      <td>NaN</td>\n",
              "      <td>NaN</td>\n",
              "      <td>NaN</td>\n",
              "    </tr>\n",
              "    <tr>\n",
              "      <th>Sex</th>\n",
              "      <td>16281</td>\n",
              "      <td>2</td>\n",
              "      <td>Male</td>\n",
              "      <td>10860</td>\n",
              "      <td>NaN</td>\n",
              "      <td>NaN</td>\n",
              "      <td>NaN</td>\n",
              "      <td>NaN</td>\n",
              "      <td>NaN</td>\n",
              "      <td>NaN</td>\n",
              "      <td>NaN</td>\n",
              "    </tr>\n",
              "    <tr>\n",
              "      <th>Capital_Gain</th>\n",
              "      <td>16281</td>\n",
              "      <td>NaN</td>\n",
              "      <td>NaN</td>\n",
              "      <td>NaN</td>\n",
              "      <td>1081.91</td>\n",
              "      <td>7583.94</td>\n",
              "      <td>0</td>\n",
              "      <td>0</td>\n",
              "      <td>0</td>\n",
              "      <td>0</td>\n",
              "      <td>99999</td>\n",
              "    </tr>\n",
              "    <tr>\n",
              "      <th>Capital_Loss</th>\n",
              "      <td>16281</td>\n",
              "      <td>NaN</td>\n",
              "      <td>NaN</td>\n",
              "      <td>NaN</td>\n",
              "      <td>87.8993</td>\n",
              "      <td>403.105</td>\n",
              "      <td>0</td>\n",
              "      <td>0</td>\n",
              "      <td>0</td>\n",
              "      <td>0</td>\n",
              "      <td>3770</td>\n",
              "    </tr>\n",
              "    <tr>\n",
              "      <th>Hours_per_week</th>\n",
              "      <td>16281</td>\n",
              "      <td>NaN</td>\n",
              "      <td>NaN</td>\n",
              "      <td>NaN</td>\n",
              "      <td>40.3922</td>\n",
              "      <td>12.4793</td>\n",
              "      <td>1</td>\n",
              "      <td>40</td>\n",
              "      <td>40</td>\n",
              "      <td>45</td>\n",
              "      <td>99</td>\n",
              "    </tr>\n",
              "    <tr>\n",
              "      <th>Country</th>\n",
              "      <td>16007</td>\n",
              "      <td>40</td>\n",
              "      <td>United-States</td>\n",
              "      <td>14662</td>\n",
              "      <td>NaN</td>\n",
              "      <td>NaN</td>\n",
              "      <td>NaN</td>\n",
              "      <td>NaN</td>\n",
              "      <td>NaN</td>\n",
              "      <td>NaN</td>\n",
              "      <td>NaN</td>\n",
              "    </tr>\n",
              "    <tr>\n",
              "      <th>Target</th>\n",
              "      <td>16281</td>\n",
              "      <td>2</td>\n",
              "      <td>0</td>\n",
              "      <td>12435</td>\n",
              "      <td>NaN</td>\n",
              "      <td>NaN</td>\n",
              "      <td>NaN</td>\n",
              "      <td>NaN</td>\n",
              "      <td>NaN</td>\n",
              "      <td>NaN</td>\n",
              "      <td>NaN</td>\n",
              "    </tr>\n",
              "  </tbody>\n",
              "</table>\n",
              "</div>"
            ],
            "text/plain": [
              "                count unique                  top  ...     50%     75%         max\n",
              "Age             16281     73                   35  ...     NaN     NaN         NaN\n",
              "Workclass       15318      8              Private  ...     NaN     NaN         NaN\n",
              "fnlwgt          16281    NaN                  NaN  ...  177831  238384  1.4904e+06\n",
              "Education       16281     16              HS-grad  ...     NaN     NaN         NaN\n",
              "Education_Num   16281    NaN                  NaN  ...      10      12          16\n",
              "Martial_Status  16281      7   Married-civ-spouse  ...     NaN     NaN         NaN\n",
              "Occupation      15315     14       Prof-specialty  ...     NaN     NaN         NaN\n",
              "Relationship    16281      6              Husband  ...     NaN     NaN         NaN\n",
              "Race            16281      5                White  ...     NaN     NaN         NaN\n",
              "Sex             16281      2                 Male  ...     NaN     NaN         NaN\n",
              "Capital_Gain    16281    NaN                  NaN  ...       0       0       99999\n",
              "Capital_Loss    16281    NaN                  NaN  ...       0       0        3770\n",
              "Hours_per_week  16281    NaN                  NaN  ...      40      45          99\n",
              "Country         16007     40        United-States  ...     NaN     NaN         NaN\n",
              "Target          16281      2                    0  ...     NaN     NaN         NaN\n",
              "\n",
              "[15 rows x 11 columns]"
            ]
          },
          "metadata": {
            "tags": []
          },
          "execution_count": 7
        }
      ]
    },
    {
      "cell_type": "code",
      "metadata": {
        "colab": {
          "base_uri": "https://localhost:8080/"
        },
        "id": "IFFC8v8uf4A5",
        "outputId": "d4e82860-7e31-4b12-96f7-841c3fda4f48"
      },
      "source": [
        "data_train['Target'].value_counts()"
      ],
      "execution_count": 8,
      "outputs": [
        {
          "output_type": "execute_result",
          "data": {
            "text/plain": [
              "0    24720\n",
              "1     7841\n",
              "Name: Target, dtype: int64"
            ]
          },
          "metadata": {
            "tags": []
          },
          "execution_count": 8
        }
      ]
    },
    {
      "cell_type": "code",
      "metadata": {
        "colab": {
          "base_uri": "https://localhost:8080/",
          "height": 786
        },
        "id": "fK-cnnGAf4A5",
        "outputId": "b9cc8de4-5bf5-4c77-dad1-fa4078df4ee0"
      },
      "source": [
        "fig = plt.figure(figsize=(25, 15))\n",
        "cols = 5\n",
        "rows = np.ceil(float(data_train.shape[1]) / cols)\n",
        "for i, column in enumerate(data_train.columns):\n",
        "    ax = fig.add_subplot(rows, cols, i + 1)\n",
        "    ax.set_title(column)\n",
        "    if data_train.dtypes[column] == np.object:\n",
        "        data_train[column].value_counts().plot(kind=\"bar\", axes=ax)\n",
        "    else:\n",
        "        data_train[column].hist(axes=ax)\n",
        "        plt.xticks(rotation=\"vertical\")\n",
        "plt.subplots_adjust(hspace=0.7, wspace=0.2)"
      ],
      "execution_count": 9,
      "outputs": [
        {
          "output_type": "display_data",
          "data": {
            "image/png": "[encoded data removed]",
            "text/plain": [
              "<Figure size 1800x1080 with 15 Axes>"
            ]
          },
          "metadata": {
            "tags": [],
            "needs_background": "light"
          }
        }
      ]
    },
    {
      "cell_type": "markdown",
      "metadata": {
        "id": "tzRXmlpWf4A6"
      },
      "source": [
        "**Проверяем типы данных**"
      ]
    },
    {
      "cell_type": "code",
      "metadata": {
        "colab": {
          "base_uri": "https://localhost:8080/"
        },
        "id": "rV4Lk3c_f4A7",
        "outputId": "e48513e6-52fa-4e61-e4e9-e8a859521e88"
      },
      "source": [
        "data_train.dtypes"
      ],
      "execution_count": 10,
      "outputs": [
        {
          "output_type": "execute_result",
          "data": {
            "text/plain": [
              "Age                int64\n",
              "Workclass         object\n",
              "fnlwgt             int64\n",
              "Education         object\n",
              "Education_Num      int64\n",
              "Martial_Status    object\n",
              "Occupation        object\n",
              "Relationship      object\n",
              "Race              object\n",
              "Sex               object\n",
              "Capital_Gain       int64\n",
              "Capital_Loss       int64\n",
              "Hours_per_week     int64\n",
              "Country           object\n",
              "Target            object\n",
              "dtype: object"
            ]
          },
          "metadata": {
            "tags": []
          },
          "execution_count": 10
        }
      ]
    },
    {
      "cell_type": "code",
      "metadata": {
        "colab": {
          "base_uri": "https://localhost:8080/"
        },
        "id": "sa9U2JG8f4A7",
        "outputId": "b85d8d3a-86d1-4c49-d3ea-69c5d7b54520"
      },
      "source": [
        "data_test.dtypes"
      ],
      "execution_count": 11,
      "outputs": [
        {
          "output_type": "execute_result",
          "data": {
            "text/plain": [
              "Age                object\n",
              "Workclass          object\n",
              "fnlwgt            float64\n",
              "Education          object\n",
              "Education_Num     float64\n",
              "Martial_Status     object\n",
              "Occupation         object\n",
              "Relationship       object\n",
              "Race               object\n",
              "Sex                object\n",
              "Capital_Gain      float64\n",
              "Capital_Loss      float64\n",
              "Hours_per_week    float64\n",
              "Country            object\n",
              "Target             object\n",
              "dtype: object"
            ]
          },
          "metadata": {
            "tags": []
          },
          "execution_count": 11
        }
      ]
    },
    {
      "cell_type": "markdown",
      "metadata": {
        "id": "wdT_CYWwf4A8"
      },
      "source": [
        "Выяснилось, что в тесте возраст отнесен к типу object, необходимо это исправить."
      ]
    },
    {
      "cell_type": "code",
      "metadata": {
        "collapsed": true,
        "id": "AG0-vxeyf4A9"
      },
      "source": [
        "data_test['Age'] = data_test['Age'].astype(int)"
      ],
      "execution_count": 12,
      "outputs": []
    },
    {
      "cell_type": "markdown",
      "metadata": {
        "id": "GCEMdDQVf4A9"
      },
      "source": [
        "Также приведем показатели типа float в int для соответствия train и test выборок."
      ]
    },
    {
      "cell_type": "code",
      "metadata": {
        "collapsed": true,
        "id": "rl533Gtsf4A-"
      },
      "source": [
        "data_test['fnlwgt'] = data_test['fnlwgt'].astype(int)\n",
        "data_test['Education_Num'] = data_test['Education_Num'].astype(int)\n",
        "data_test['Capital_Gain'] = data_test['Capital_Gain'].astype(int)\n",
        "data_test['Capital_Loss'] = data_test['Capital_Loss'].astype(int)\n",
        "data_test['Hours_per_week'] = data_test['Hours_per_week'].astype(int)"
      ],
      "execution_count": 13,
      "outputs": []
    },
    {
      "cell_type": "markdown",
      "metadata": {
        "id": "PRxjUYnCf4A-"
      },
      "source": [
        "**Заполним пропуски в количественных полях медианными значениями, а в категориальных – наиболее часто встречающимся значением**"
      ]
    },
    {
      "cell_type": "code",
      "metadata": {
        "colab": {
          "base_uri": "https://localhost:8080/"
        },
        "id": "GKscaHVkf4A_",
        "outputId": "f73c332b-f18f-4edf-835d-f6b8d147cbda"
      },
      "source": [
        "# выделим в выборках категориальные и числовые поля\n",
        "\n",
        "categorical_columns_train = [c for c in data_train.columns \n",
        "                             if data_train[c].dtype.name == 'object']\n",
        "numerical_columns_train = [c for c in data_train.columns \n",
        "                           if data_train[c].dtype.name != 'object']\n",
        "\n",
        "categorical_columns_test = [c for c in data_test.columns \n",
        "                            if data_test[c].dtype.name == 'object']\n",
        "numerical_columns_test = [c for c in data_test.columns \n",
        "                          if data_test[c].dtype.name != 'object']\n",
        "\n",
        "print('categorical_columns_test:', categorical_columns_test)\n",
        "print('categorical_columns_train:', categorical_columns_train)\n",
        "print('numerical_columns_test:', numerical_columns_test)\n",
        "print('numerical_columns_train:', numerical_columns_train)"
      ],
      "execution_count": 14,
      "outputs": [
        {
          "output_type": "stream",
          "text": [
            "categorical_columns_test: ['Workclass', 'Education', 'Martial_Status', 'Occupation', 'Relationship', 'Race', 'Sex', 'Country', 'Target']\n",
            "categorical_columns_train: ['Workclass', 'Education', 'Martial_Status', 'Occupation', 'Relationship', 'Race', 'Sex', 'Country', 'Target']\n",
            "numerical_columns_test: ['Age', 'fnlwgt', 'Education_Num', 'Capital_Gain', 'Capital_Loss', 'Hours_per_week']\n",
            "numerical_columns_train: ['Age', 'fnlwgt', 'Education_Num', 'Capital_Gain', 'Capital_Loss', 'Hours_per_week']\n"
          ],
          "name": "stdout"
        }
      ]
    },
    {
      "cell_type": "code",
      "metadata": {
        "collapsed": true,
        "id": "uw2EyEjSf4BA"
      },
      "source": [
        "# заполним пропуски\n",
        "\n",
        "for c in categorical_columns_train:\n",
        "    data_train[c] = data_train[c].fillna(data_train[c].mode())\n",
        "for c in categorical_columns_test:\n",
        "    data_test[c] = data_test[c].fillna(data_train[c].mode())\n",
        "    \n",
        "for c in numerical_columns_train:\n",
        "    data_train[c] = data_train[c].fillna(data_train[c].median())\n",
        "for c in numerical_columns_test:\n",
        "    data_test[c] = data_test[c].fillna(data_train[c].median())    "
      ],
      "execution_count": 15,
      "outputs": []
    },
    {
      "cell_type": "markdown",
      "metadata": {
        "id": "W5huOf_sf4BA"
      },
      "source": [
        "**Кодируем категориальные признаки 'Workclass', 'Education', 'Martial_Status', 'Occupation', 'Relationship', 'Race', 'Sex', 'Country'. Это можно сделать с помощью метода `pandas get_dummies`.**"
      ]
    },
    {
      "cell_type": "code",
      "metadata": {
        "collapsed": true,
        "id": "SOdH-aN0f4BB"
      },
      "source": [
        "data_train = pd.concat([data_train, pd.get_dummies(data_train['Workclass'], \n",
        "                                                   prefix=\"Workclass\"),\n",
        "                      pd.get_dummies(data_train['Education'], prefix=\"Education\"),\n",
        "                      pd.get_dummies(data_train['Martial_Status'], prefix=\"Martial_Status\"),\n",
        "                      pd.get_dummies(data_train['Occupation'], prefix=\"Occupation\"),\n",
        "                      pd.get_dummies(data_train['Relationship'], prefix=\"Relationship\"),\n",
        "                      pd.get_dummies(data_train['Race'], prefix=\"Race\"),\n",
        "                      pd.get_dummies(data_train['Sex'], prefix=\"Sex\"),\n",
        "                      pd.get_dummies(data_train['Country'], prefix=\"Country\")],\n",
        "                     axis=1)\n",
        "\n",
        "data_test = pd.concat([data_test, pd.get_dummies(data_test['Workclass'], prefix=\"Workclass\"),\n",
        "                      pd.get_dummies(data_test['Education'], prefix=\"Education\"),\n",
        "                      pd.get_dummies(data_test['Martial_Status'], prefix=\"Martial_Status\"),\n",
        "                      pd.get_dummies(data_test['Occupation'], prefix=\"Occupation\"),\n",
        "                      pd.get_dummies(data_test['Relationship'], prefix=\"Relationship\"),\n",
        "                      pd.get_dummies(data_test['Race'], prefix=\"Race\"),\n",
        "                      pd.get_dummies(data_test['Sex'], prefix=\"Sex\"),\n",
        "                      pd.get_dummies(data_test['Country'], prefix=\"Country\")],\n",
        "                     axis=1)"
      ],
      "execution_count": 16,
      "outputs": []
    },
    {
      "cell_type": "code",
      "metadata": {
        "collapsed": true,
        "id": "mSWwxaa_f4BC"
      },
      "source": [
        "data_train.drop(['Workclass', 'Education', 'Martial_Status',\n",
        "                 'Occupation', 'Relationship', 'Race', 'Sex', 'Country'],\n",
        "                axis=1, inplace=True)\n",
        "data_test.drop(['Workclass', 'Education', 'Martial_Status', 'Occupation', \n",
        "                'Relationship', 'Race', 'Sex', 'Country'],\n",
        "               axis=1, inplace=True)"
      ],
      "execution_count": 17,
      "outputs": []
    },
    {
      "cell_type": "code",
      "metadata": {
        "colab": {
          "base_uri": "https://localhost:8080/",
          "height": 402
        },
        "id": "dmfLagk5f4BD",
        "outputId": "936bc456-b8c8-4628-c33c-89ad7e0805b1"
      },
      "source": [
        "data_test.describe(include='all').T"
      ],
      "execution_count": 18,
      "outputs": [
        {
          "output_type": "execute_result",
          "data": {
            "text/html": [
              "<div>\n",
              "<style scoped>\n",
              "    .dataframe tbody tr th:only-of-type {\n",
              "        vertical-align: middle;\n",
              "    }\n",
              "\n",
              "    .dataframe tbody tr th {\n",
              "        vertical-align: top;\n",
              "    }\n",
              "\n",
              "    .dataframe thead th {\n",
              "        text-align: right;\n",
              "    }\n",
              "</style>\n",
              "<table border=\"1\" class=\"dataframe\">\n",
              "  <thead>\n",
              "    <tr style=\"text-align: right;\">\n",
              "      <th></th>\n",
              "      <th>count</th>\n",
              "      <th>mean</th>\n",
              "      <th>std</th>\n",
              "      <th>min</th>\n",
              "      <th>25%</th>\n",
              "      <th>50%</th>\n",
              "      <th>75%</th>\n",
              "      <th>max</th>\n",
              "    </tr>\n",
              "  </thead>\n",
              "  <tbody>\n",
              "    <tr>\n",
              "      <th>Age</th>\n",
              "      <td>16281.0</td>\n",
              "      <td>38.767459</td>\n",
              "      <td>13.849187</td>\n",
              "      <td>17.0</td>\n",
              "      <td>28.0</td>\n",
              "      <td>37.0</td>\n",
              "      <td>48.0</td>\n",
              "      <td>90.0</td>\n",
              "    </tr>\n",
              "    <tr>\n",
              "      <th>fnlwgt</th>\n",
              "      <td>16281.0</td>\n",
              "      <td>189435.677784</td>\n",
              "      <td>105714.907671</td>\n",
              "      <td>13492.0</td>\n",
              "      <td>116736.0</td>\n",
              "      <td>177831.0</td>\n",
              "      <td>238384.0</td>\n",
              "      <td>1490400.0</td>\n",
              "    </tr>\n",
              "    <tr>\n",
              "      <th>Education_Num</th>\n",
              "      <td>16281.0</td>\n",
              "      <td>10.072907</td>\n",
              "      <td>2.567545</td>\n",
              "      <td>1.0</td>\n",
              "      <td>9.0</td>\n",
              "      <td>10.0</td>\n",
              "      <td>12.0</td>\n",
              "      <td>16.0</td>\n",
              "    </tr>\n",
              "    <tr>\n",
              "      <th>Capital_Gain</th>\n",
              "      <td>16281.0</td>\n",
              "      <td>1081.905104</td>\n",
              "      <td>7583.935968</td>\n",
              "      <td>0.0</td>\n",
              "      <td>0.0</td>\n",
              "      <td>0.0</td>\n",
              "      <td>0.0</td>\n",
              "      <td>99999.0</td>\n",
              "    </tr>\n",
              "    <tr>\n",
              "      <th>Capital_Loss</th>\n",
              "      <td>16281.0</td>\n",
              "      <td>87.899269</td>\n",
              "      <td>403.105286</td>\n",
              "      <td>0.0</td>\n",
              "      <td>0.0</td>\n",
              "      <td>0.0</td>\n",
              "      <td>0.0</td>\n",
              "      <td>3770.0</td>\n",
              "    </tr>\n",
              "    <tr>\n",
              "      <th>...</th>\n",
              "      <td>...</td>\n",
              "      <td>...</td>\n",
              "      <td>...</td>\n",
              "      <td>...</td>\n",
              "      <td>...</td>\n",
              "      <td>...</td>\n",
              "      <td>...</td>\n",
              "      <td>...</td>\n",
              "    </tr>\n",
              "    <tr>\n",
              "      <th>Country_ Thailand</th>\n",
              "      <td>16281.0</td>\n",
              "      <td>0.000737</td>\n",
              "      <td>0.027140</td>\n",
              "      <td>0.0</td>\n",
              "      <td>0.0</td>\n",
              "      <td>0.0</td>\n",
              "      <td>0.0</td>\n",
              "      <td>1.0</td>\n",
              "    </tr>\n",
              "    <tr>\n",
              "      <th>Country_ Trinadad&amp;Tobago</th>\n",
              "      <td>16281.0</td>\n",
              "      <td>0.000491</td>\n",
              "      <td>0.022162</td>\n",
              "      <td>0.0</td>\n",
              "      <td>0.0</td>\n",
              "      <td>0.0</td>\n",
              "      <td>0.0</td>\n",
              "      <td>1.0</td>\n",
              "    </tr>\n",
              "    <tr>\n",
              "      <th>Country_ United-States</th>\n",
              "      <td>16281.0</td>\n",
              "      <td>0.900559</td>\n",
              "      <td>0.299262</td>\n",
              "      <td>0.0</td>\n",
              "      <td>1.0</td>\n",
              "      <td>1.0</td>\n",
              "      <td>1.0</td>\n",
              "      <td>1.0</td>\n",
              "    </tr>\n",
              "    <tr>\n",
              "      <th>Country_ Vietnam</th>\n",
              "      <td>16281.0</td>\n",
              "      <td>0.001167</td>\n",
              "      <td>0.034143</td>\n",
              "      <td>0.0</td>\n",
              "      <td>0.0</td>\n",
              "      <td>0.0</td>\n",
              "      <td>0.0</td>\n",
              "      <td>1.0</td>\n",
              "    </tr>\n",
              "    <tr>\n",
              "      <th>Country_ Yugoslavia</th>\n",
              "      <td>16281.0</td>\n",
              "      <td>0.000430</td>\n",
              "      <td>0.020731</td>\n",
              "      <td>0.0</td>\n",
              "      <td>0.0</td>\n",
              "      <td>0.0</td>\n",
              "      <td>0.0</td>\n",
              "      <td>1.0</td>\n",
              "    </tr>\n",
              "  </tbody>\n",
              "</table>\n",
              "<p>105 rows × 8 columns</p>\n",
              "</div>"
            ],
            "text/plain": [
              "                            count           mean  ...       75%        max\n",
              "Age                       16281.0      38.767459  ...      48.0       90.0\n",
              "fnlwgt                    16281.0  189435.677784  ...  238384.0  1490400.0\n",
              "Education_Num             16281.0      10.072907  ...      12.0       16.0\n",
              "Capital_Gain              16281.0    1081.905104  ...       0.0    99999.0\n",
              "Capital_Loss              16281.0      87.899269  ...       0.0     3770.0\n",
              "...                           ...            ...  ...       ...        ...\n",
              "Country_ Thailand         16281.0       0.000737  ...       0.0        1.0\n",
              "Country_ Trinadad&Tobago  16281.0       0.000491  ...       0.0        1.0\n",
              "Country_ United-States    16281.0       0.900559  ...       1.0        1.0\n",
              "Country_ Vietnam          16281.0       0.001167  ...       0.0        1.0\n",
              "Country_ Yugoslavia       16281.0       0.000430  ...       0.0        1.0\n",
              "\n",
              "[105 rows x 8 columns]"
            ]
          },
          "metadata": {
            "tags": []
          },
          "execution_count": 18
        }
      ]
    },
    {
      "cell_type": "code",
      "metadata": {
        "colab": {
          "base_uri": "https://localhost:8080/"
        },
        "id": "dPAVnivWf4BE",
        "outputId": "b5d9c778-aa4d-46bd-ea84-73a8dd434b4d"
      },
      "source": [
        "set(data_train.columns) - set(data_test.columns)"
      ],
      "execution_count": 19,
      "outputs": [
        {
          "output_type": "execute_result",
          "data": {
            "text/plain": [
              "{'Country_ Holand-Netherlands'}"
            ]
          },
          "metadata": {
            "tags": []
          },
          "execution_count": 19
        }
      ]
    },
    {
      "cell_type": "code",
      "metadata": {
        "colab": {
          "base_uri": "https://localhost:8080/"
        },
        "id": "ZmvYf4URf4BF",
        "outputId": "740065f7-c551-462b-b22c-9d6405e5e0be"
      },
      "source": [
        "data_train.shape, data_test.shape"
      ],
      "execution_count": 20,
      "outputs": [
        {
          "output_type": "execute_result",
          "data": {
            "text/plain": [
              "((32561, 106), (16281, 105))"
            ]
          },
          "metadata": {
            "tags": []
          },
          "execution_count": 20
        }
      ]
    },
    {
      "cell_type": "markdown",
      "metadata": {
        "id": "wiNuCIiBf4BF"
      },
      "source": [
        "**В тестовой выборке не оказалось Голландии. Заведем необходимый признак из нулей.**"
      ]
    },
    {
      "cell_type": "code",
      "metadata": {
        "collapsed": true,
        "id": "75J8VyfAf4BG"
      },
      "source": [
        "data_test['Country_ Holand-Netherlands'] = np.zeros([data_test.shape[0], 1])"
      ],
      "execution_count": 21,
      "outputs": []
    },
    {
      "cell_type": "code",
      "metadata": {
        "colab": {
          "base_uri": "https://localhost:8080/"
        },
        "id": "OROSwn1_f4BH",
        "outputId": "82db70bb-5faa-4fd7-c1fc-1d3fd08b84f1"
      },
      "source": [
        "set(data_train.columns) - set(data_test.columns)"
      ],
      "execution_count": 22,
      "outputs": [
        {
          "output_type": "execute_result",
          "data": {
            "text/plain": [
              "set()"
            ]
          },
          "metadata": {
            "tags": []
          },
          "execution_count": 22
        }
      ]
    },
    {
      "cell_type": "code",
      "metadata": {
        "colab": {
          "base_uri": "https://localhost:8080/",
          "height": 206
        },
        "id": "LmL0wnWuf4BH",
        "outputId": "93eef52f-e7ce-4d93-b863-89de92286346"
      },
      "source": [
        "data_train.head(2)"
      ],
      "execution_count": 23,
      "outputs": [
        {
          "output_type": "execute_result",
          "data": {
            "text/html": [
              "<div>\n",
              "<style scoped>\n",
              "    .dataframe tbody tr th:only-of-type {\n",
              "        vertical-align: middle;\n",
              "    }\n",
              "\n",
              "    .dataframe tbody tr th {\n",
              "        vertical-align: top;\n",
              "    }\n",
              "\n",
              "    .dataframe thead th {\n",
              "        text-align: right;\n",
              "    }\n",
              "</style>\n",
              "<table border=\"1\" class=\"dataframe\">\n",
              "  <thead>\n",
              "    <tr style=\"text-align: right;\">\n",
              "      <th></th>\n",
              "      <th>Age</th>\n",
              "      <th>fnlwgt</th>\n",
              "      <th>Education_Num</th>\n",
              "      <th>Capital_Gain</th>\n",
              "      <th>Capital_Loss</th>\n",
              "      <th>Hours_per_week</th>\n",
              "      <th>Target</th>\n",
              "      <th>Workclass_ Federal-gov</th>\n",
              "      <th>Workclass_ Local-gov</th>\n",
              "      <th>Workclass_ Never-worked</th>\n",
              "      <th>Workclass_ Private</th>\n",
              "      <th>Workclass_ Self-emp-inc</th>\n",
              "      <th>Workclass_ Self-emp-not-inc</th>\n",
              "      <th>Workclass_ State-gov</th>\n",
              "      <th>Workclass_ Without-pay</th>\n",
              "      <th>Education_ 10th</th>\n",
              "      <th>Education_ 11th</th>\n",
              "      <th>Education_ 12th</th>\n",
              "      <th>Education_ 1st-4th</th>\n",
              "      <th>Education_ 5th-6th</th>\n",
              "      <th>Education_ 7th-8th</th>\n",
              "      <th>Education_ 9th</th>\n",
              "      <th>Education_ Assoc-acdm</th>\n",
              "      <th>Education_ Assoc-voc</th>\n",
              "      <th>Education_ Bachelors</th>\n",
              "      <th>Education_ Doctorate</th>\n",
              "      <th>Education_ HS-grad</th>\n",
              "      <th>Education_ Masters</th>\n",
              "      <th>Education_ Preschool</th>\n",
              "      <th>Education_ Prof-school</th>\n",
              "      <th>Education_ Some-college</th>\n",
              "      <th>Martial_Status_ Divorced</th>\n",
              "      <th>Martial_Status_ Married-AF-spouse</th>\n",
              "      <th>Martial_Status_ Married-civ-spouse</th>\n",
              "      <th>Martial_Status_ Married-spouse-absent</th>\n",
              "      <th>Martial_Status_ Never-married</th>\n",
              "      <th>Martial_Status_ Separated</th>\n",
              "      <th>Martial_Status_ Widowed</th>\n",
              "      <th>Occupation_ Adm-clerical</th>\n",
              "      <th>Occupation_ Armed-Forces</th>\n",
              "      <th>...</th>\n",
              "      <th>Country_ Canada</th>\n",
              "      <th>Country_ China</th>\n",
              "      <th>Country_ Columbia</th>\n",
              "      <th>Country_ Cuba</th>\n",
              "      <th>Country_ Dominican-Republic</th>\n",
              "      <th>Country_ Ecuador</th>\n",
              "      <th>Country_ El-Salvador</th>\n",
              "      <th>Country_ England</th>\n",
              "      <th>Country_ France</th>\n",
              "      <th>Country_ Germany</th>\n",
              "      <th>Country_ Greece</th>\n",
              "      <th>Country_ Guatemala</th>\n",
              "      <th>Country_ Haiti</th>\n",
              "      <th>Country_ Holand-Netherlands</th>\n",
              "      <th>Country_ Honduras</th>\n",
              "      <th>Country_ Hong</th>\n",
              "      <th>Country_ Hungary</th>\n",
              "      <th>Country_ India</th>\n",
              "      <th>Country_ Iran</th>\n",
              "      <th>Country_ Ireland</th>\n",
              "      <th>Country_ Italy</th>\n",
              "      <th>Country_ Jamaica</th>\n",
              "      <th>Country_ Japan</th>\n",
              "      <th>Country_ Laos</th>\n",
              "      <th>Country_ Mexico</th>\n",
              "      <th>Country_ Nicaragua</th>\n",
              "      <th>Country_ Outlying-US(Guam-USVI-etc)</th>\n",
              "      <th>Country_ Peru</th>\n",
              "      <th>Country_ Philippines</th>\n",
              "      <th>Country_ Poland</th>\n",
              "      <th>Country_ Portugal</th>\n",
              "      <th>Country_ Puerto-Rico</th>\n",
              "      <th>Country_ Scotland</th>\n",
              "      <th>Country_ South</th>\n",
              "      <th>Country_ Taiwan</th>\n",
              "      <th>Country_ Thailand</th>\n",
              "      <th>Country_ Trinadad&amp;Tobago</th>\n",
              "      <th>Country_ United-States</th>\n",
              "      <th>Country_ Vietnam</th>\n",
              "      <th>Country_ Yugoslavia</th>\n",
              "    </tr>\n",
              "  </thead>\n",
              "  <tbody>\n",
              "    <tr>\n",
              "      <th>0</th>\n",
              "      <td>39</td>\n",
              "      <td>77516</td>\n",
              "      <td>13</td>\n",
              "      <td>2174</td>\n",
              "      <td>0</td>\n",
              "      <td>40</td>\n",
              "      <td>0</td>\n",
              "      <td>0</td>\n",
              "      <td>0</td>\n",
              "      <td>0</td>\n",
              "      <td>0</td>\n",
              "      <td>0</td>\n",
              "      <td>0</td>\n",
              "      <td>1</td>\n",
              "      <td>0</td>\n",
              "      <td>0</td>\n",
              "      <td>0</td>\n",
              "      <td>0</td>\n",
              "      <td>0</td>\n",
              "      <td>0</td>\n",
              "      <td>0</td>\n",
              "      <td>0</td>\n",
              "      <td>0</td>\n",
              "      <td>0</td>\n",
              "      <td>1</td>\n",
              "      <td>0</td>\n",
              "      <td>0</td>\n",
              "      <td>0</td>\n",
              "      <td>0</td>\n",
              "      <td>0</td>\n",
              "      <td>0</td>\n",
              "      <td>0</td>\n",
              "      <td>0</td>\n",
              "      <td>0</td>\n",
              "      <td>0</td>\n",
              "      <td>1</td>\n",
              "      <td>0</td>\n",
              "      <td>0</td>\n",
              "      <td>1</td>\n",
              "      <td>0</td>\n",
              "      <td>...</td>\n",
              "      <td>0</td>\n",
              "      <td>0</td>\n",
              "      <td>0</td>\n",
              "      <td>0</td>\n",
              "      <td>0</td>\n",
              "      <td>0</td>\n",
              "      <td>0</td>\n",
              "      <td>0</td>\n",
              "      <td>0</td>\n",
              "      <td>0</td>\n",
              "      <td>0</td>\n",
              "      <td>0</td>\n",
              "      <td>0</td>\n",
              "      <td>0</td>\n",
              "      <td>0</td>\n",
              "      <td>0</td>\n",
              "      <td>0</td>\n",
              "      <td>0</td>\n",
              "      <td>0</td>\n",
              "      <td>0</td>\n",
              "      <td>0</td>\n",
              "      <td>0</td>\n",
              "      <td>0</td>\n",
              "      <td>0</td>\n",
              "      <td>0</td>\n",
              "      <td>0</td>\n",
              "      <td>0</td>\n",
              "      <td>0</td>\n",
              "      <td>0</td>\n",
              "      <td>0</td>\n",
              "      <td>0</td>\n",
              "      <td>0</td>\n",
              "      <td>0</td>\n",
              "      <td>0</td>\n",
              "      <td>0</td>\n",
              "      <td>0</td>\n",
              "      <td>0</td>\n",
              "      <td>1</td>\n",
              "      <td>0</td>\n",
              "      <td>0</td>\n",
              "    </tr>\n",
              "    <tr>\n",
              "      <th>1</th>\n",
              "      <td>50</td>\n",
              "      <td>83311</td>\n",
              "      <td>13</td>\n",
              "      <td>0</td>\n",
              "      <td>0</td>\n",
              "      <td>13</td>\n",
              "      <td>0</td>\n",
              "      <td>0</td>\n",
              "      <td>0</td>\n",
              "      <td>0</td>\n",
              "      <td>0</td>\n",
              "      <td>0</td>\n",
              "      <td>1</td>\n",
              "      <td>0</td>\n",
              "      <td>0</td>\n",
              "      <td>0</td>\n",
              "      <td>0</td>\n",
              "      <td>0</td>\n",
              "      <td>0</td>\n",
              "      <td>0</td>\n",
              "      <td>0</td>\n",
              "      <td>0</td>\n",
              "      <td>0</td>\n",
              "      <td>0</td>\n",
              "      <td>1</td>\n",
              "      <td>0</td>\n",
              "      <td>0</td>\n",
              "      <td>0</td>\n",
              "      <td>0</td>\n",
              "      <td>0</td>\n",
              "      <td>0</td>\n",
              "      <td>0</td>\n",
              "      <td>0</td>\n",
              "      <td>1</td>\n",
              "      <td>0</td>\n",
              "      <td>0</td>\n",
              "      <td>0</td>\n",
              "      <td>0</td>\n",
              "      <td>0</td>\n",
              "      <td>0</td>\n",
              "      <td>...</td>\n",
              "      <td>0</td>\n",
              "      <td>0</td>\n",
              "      <td>0</td>\n",
              "      <td>0</td>\n",
              "      <td>0</td>\n",
              "      <td>0</td>\n",
              "      <td>0</td>\n",
              "      <td>0</td>\n",
              "      <td>0</td>\n",
              "      <td>0</td>\n",
              "      <td>0</td>\n",
              "      <td>0</td>\n",
              "      <td>0</td>\n",
              "      <td>0</td>\n",
              "      <td>0</td>\n",
              "      <td>0</td>\n",
              "      <td>0</td>\n",
              "      <td>0</td>\n",
              "      <td>0</td>\n",
              "      <td>0</td>\n",
              "      <td>0</td>\n",
              "      <td>0</td>\n",
              "      <td>0</td>\n",
              "      <td>0</td>\n",
              "      <td>0</td>\n",
              "      <td>0</td>\n",
              "      <td>0</td>\n",
              "      <td>0</td>\n",
              "      <td>0</td>\n",
              "      <td>0</td>\n",
              "      <td>0</td>\n",
              "      <td>0</td>\n",
              "      <td>0</td>\n",
              "      <td>0</td>\n",
              "      <td>0</td>\n",
              "      <td>0</td>\n",
              "      <td>0</td>\n",
              "      <td>1</td>\n",
              "      <td>0</td>\n",
              "      <td>0</td>\n",
              "    </tr>\n",
              "  </tbody>\n",
              "</table>\n",
              "<p>2 rows × 106 columns</p>\n",
              "</div>"
            ],
            "text/plain": [
              "   Age  fnlwgt  ...  Country_ Vietnam  Country_ Yugoslavia\n",
              "0   39   77516  ...                 0                    0\n",
              "1   50   83311  ...                 0                    0\n",
              "\n",
              "[2 rows x 106 columns]"
            ]
          },
          "metadata": {
            "tags": []
          },
          "execution_count": 23
        }
      ]
    },
    {
      "cell_type": "code",
      "metadata": {
        "colab": {
          "base_uri": "https://localhost:8080/",
          "height": 206
        },
        "id": "1PRcWEQif4BI",
        "outputId": "53bea43a-53b5-4de3-e7d5-8caaf2119079"
      },
      "source": [
        "data_test.head(2)"
      ],
      "execution_count": 24,
      "outputs": [
        {
          "output_type": "execute_result",
          "data": {
            "text/html": [
              "<div>\n",
              "<style scoped>\n",
              "    .dataframe tbody tr th:only-of-type {\n",
              "        vertical-align: middle;\n",
              "    }\n",
              "\n",
              "    .dataframe tbody tr th {\n",
              "        vertical-align: top;\n",
              "    }\n",
              "\n",
              "    .dataframe thead th {\n",
              "        text-align: right;\n",
              "    }\n",
              "</style>\n",
              "<table border=\"1\" class=\"dataframe\">\n",
              "  <thead>\n",
              "    <tr style=\"text-align: right;\">\n",
              "      <th></th>\n",
              "      <th>Age</th>\n",
              "      <th>fnlwgt</th>\n",
              "      <th>Education_Num</th>\n",
              "      <th>Capital_Gain</th>\n",
              "      <th>Capital_Loss</th>\n",
              "      <th>Hours_per_week</th>\n",
              "      <th>Target</th>\n",
              "      <th>Workclass_ Federal-gov</th>\n",
              "      <th>Workclass_ Local-gov</th>\n",
              "      <th>Workclass_ Never-worked</th>\n",
              "      <th>Workclass_ Private</th>\n",
              "      <th>Workclass_ Self-emp-inc</th>\n",
              "      <th>Workclass_ Self-emp-not-inc</th>\n",
              "      <th>Workclass_ State-gov</th>\n",
              "      <th>Workclass_ Without-pay</th>\n",
              "      <th>Education_ 10th</th>\n",
              "      <th>Education_ 11th</th>\n",
              "      <th>Education_ 12th</th>\n",
              "      <th>Education_ 1st-4th</th>\n",
              "      <th>Education_ 5th-6th</th>\n",
              "      <th>Education_ 7th-8th</th>\n",
              "      <th>Education_ 9th</th>\n",
              "      <th>Education_ Assoc-acdm</th>\n",
              "      <th>Education_ Assoc-voc</th>\n",
              "      <th>Education_ Bachelors</th>\n",
              "      <th>Education_ Doctorate</th>\n",
              "      <th>Education_ HS-grad</th>\n",
              "      <th>Education_ Masters</th>\n",
              "      <th>Education_ Preschool</th>\n",
              "      <th>Education_ Prof-school</th>\n",
              "      <th>Education_ Some-college</th>\n",
              "      <th>Martial_Status_ Divorced</th>\n",
              "      <th>Martial_Status_ Married-AF-spouse</th>\n",
              "      <th>Martial_Status_ Married-civ-spouse</th>\n",
              "      <th>Martial_Status_ Married-spouse-absent</th>\n",
              "      <th>Martial_Status_ Never-married</th>\n",
              "      <th>Martial_Status_ Separated</th>\n",
              "      <th>Martial_Status_ Widowed</th>\n",
              "      <th>Occupation_ Adm-clerical</th>\n",
              "      <th>Occupation_ Armed-Forces</th>\n",
              "      <th>...</th>\n",
              "      <th>Country_ Canada</th>\n",
              "      <th>Country_ China</th>\n",
              "      <th>Country_ Columbia</th>\n",
              "      <th>Country_ Cuba</th>\n",
              "      <th>Country_ Dominican-Republic</th>\n",
              "      <th>Country_ Ecuador</th>\n",
              "      <th>Country_ El-Salvador</th>\n",
              "      <th>Country_ England</th>\n",
              "      <th>Country_ France</th>\n",
              "      <th>Country_ Germany</th>\n",
              "      <th>Country_ Greece</th>\n",
              "      <th>Country_ Guatemala</th>\n",
              "      <th>Country_ Haiti</th>\n",
              "      <th>Country_ Honduras</th>\n",
              "      <th>Country_ Hong</th>\n",
              "      <th>Country_ Hungary</th>\n",
              "      <th>Country_ India</th>\n",
              "      <th>Country_ Iran</th>\n",
              "      <th>Country_ Ireland</th>\n",
              "      <th>Country_ Italy</th>\n",
              "      <th>Country_ Jamaica</th>\n",
              "      <th>Country_ Japan</th>\n",
              "      <th>Country_ Laos</th>\n",
              "      <th>Country_ Mexico</th>\n",
              "      <th>Country_ Nicaragua</th>\n",
              "      <th>Country_ Outlying-US(Guam-USVI-etc)</th>\n",
              "      <th>Country_ Peru</th>\n",
              "      <th>Country_ Philippines</th>\n",
              "      <th>Country_ Poland</th>\n",
              "      <th>Country_ Portugal</th>\n",
              "      <th>Country_ Puerto-Rico</th>\n",
              "      <th>Country_ Scotland</th>\n",
              "      <th>Country_ South</th>\n",
              "      <th>Country_ Taiwan</th>\n",
              "      <th>Country_ Thailand</th>\n",
              "      <th>Country_ Trinadad&amp;Tobago</th>\n",
              "      <th>Country_ United-States</th>\n",
              "      <th>Country_ Vietnam</th>\n",
              "      <th>Country_ Yugoslavia</th>\n",
              "      <th>Country_ Holand-Netherlands</th>\n",
              "    </tr>\n",
              "  </thead>\n",
              "  <tbody>\n",
              "    <tr>\n",
              "      <th>1</th>\n",
              "      <td>25</td>\n",
              "      <td>226802</td>\n",
              "      <td>7</td>\n",
              "      <td>0</td>\n",
              "      <td>0</td>\n",
              "      <td>40</td>\n",
              "      <td>0</td>\n",
              "      <td>0</td>\n",
              "      <td>0</td>\n",
              "      <td>0</td>\n",
              "      <td>1</td>\n",
              "      <td>0</td>\n",
              "      <td>0</td>\n",
              "      <td>0</td>\n",
              "      <td>0</td>\n",
              "      <td>0</td>\n",
              "      <td>1</td>\n",
              "      <td>0</td>\n",
              "      <td>0</td>\n",
              "      <td>0</td>\n",
              "      <td>0</td>\n",
              "      <td>0</td>\n",
              "      <td>0</td>\n",
              "      <td>0</td>\n",
              "      <td>0</td>\n",
              "      <td>0</td>\n",
              "      <td>0</td>\n",
              "      <td>0</td>\n",
              "      <td>0</td>\n",
              "      <td>0</td>\n",
              "      <td>0</td>\n",
              "      <td>0</td>\n",
              "      <td>0</td>\n",
              "      <td>0</td>\n",
              "      <td>0</td>\n",
              "      <td>1</td>\n",
              "      <td>0</td>\n",
              "      <td>0</td>\n",
              "      <td>0</td>\n",
              "      <td>0</td>\n",
              "      <td>...</td>\n",
              "      <td>0</td>\n",
              "      <td>0</td>\n",
              "      <td>0</td>\n",
              "      <td>0</td>\n",
              "      <td>0</td>\n",
              "      <td>0</td>\n",
              "      <td>0</td>\n",
              "      <td>0</td>\n",
              "      <td>0</td>\n",
              "      <td>0</td>\n",
              "      <td>0</td>\n",
              "      <td>0</td>\n",
              "      <td>0</td>\n",
              "      <td>0</td>\n",
              "      <td>0</td>\n",
              "      <td>0</td>\n",
              "      <td>0</td>\n",
              "      <td>0</td>\n",
              "      <td>0</td>\n",
              "      <td>0</td>\n",
              "      <td>0</td>\n",
              "      <td>0</td>\n",
              "      <td>0</td>\n",
              "      <td>0</td>\n",
              "      <td>0</td>\n",
              "      <td>0</td>\n",
              "      <td>0</td>\n",
              "      <td>0</td>\n",
              "      <td>0</td>\n",
              "      <td>0</td>\n",
              "      <td>0</td>\n",
              "      <td>0</td>\n",
              "      <td>0</td>\n",
              "      <td>0</td>\n",
              "      <td>0</td>\n",
              "      <td>0</td>\n",
              "      <td>1</td>\n",
              "      <td>0</td>\n",
              "      <td>0</td>\n",
              "      <td>0.0</td>\n",
              "    </tr>\n",
              "    <tr>\n",
              "      <th>2</th>\n",
              "      <td>38</td>\n",
              "      <td>89814</td>\n",
              "      <td>9</td>\n",
              "      <td>0</td>\n",
              "      <td>0</td>\n",
              "      <td>50</td>\n",
              "      <td>0</td>\n",
              "      <td>0</td>\n",
              "      <td>0</td>\n",
              "      <td>0</td>\n",
              "      <td>1</td>\n",
              "      <td>0</td>\n",
              "      <td>0</td>\n",
              "      <td>0</td>\n",
              "      <td>0</td>\n",
              "      <td>0</td>\n",
              "      <td>0</td>\n",
              "      <td>0</td>\n",
              "      <td>0</td>\n",
              "      <td>0</td>\n",
              "      <td>0</td>\n",
              "      <td>0</td>\n",
              "      <td>0</td>\n",
              "      <td>0</td>\n",
              "      <td>0</td>\n",
              "      <td>0</td>\n",
              "      <td>1</td>\n",
              "      <td>0</td>\n",
              "      <td>0</td>\n",
              "      <td>0</td>\n",
              "      <td>0</td>\n",
              "      <td>0</td>\n",
              "      <td>0</td>\n",
              "      <td>1</td>\n",
              "      <td>0</td>\n",
              "      <td>0</td>\n",
              "      <td>0</td>\n",
              "      <td>0</td>\n",
              "      <td>0</td>\n",
              "      <td>0</td>\n",
              "      <td>...</td>\n",
              "      <td>0</td>\n",
              "      <td>0</td>\n",
              "      <td>0</td>\n",
              "      <td>0</td>\n",
              "      <td>0</td>\n",
              "      <td>0</td>\n",
              "      <td>0</td>\n",
              "      <td>0</td>\n",
              "      <td>0</td>\n",
              "      <td>0</td>\n",
              "      <td>0</td>\n",
              "      <td>0</td>\n",
              "      <td>0</td>\n",
              "      <td>0</td>\n",
              "      <td>0</td>\n",
              "      <td>0</td>\n",
              "      <td>0</td>\n",
              "      <td>0</td>\n",
              "      <td>0</td>\n",
              "      <td>0</td>\n",
              "      <td>0</td>\n",
              "      <td>0</td>\n",
              "      <td>0</td>\n",
              "      <td>0</td>\n",
              "      <td>0</td>\n",
              "      <td>0</td>\n",
              "      <td>0</td>\n",
              "      <td>0</td>\n",
              "      <td>0</td>\n",
              "      <td>0</td>\n",
              "      <td>0</td>\n",
              "      <td>0</td>\n",
              "      <td>0</td>\n",
              "      <td>0</td>\n",
              "      <td>0</td>\n",
              "      <td>0</td>\n",
              "      <td>1</td>\n",
              "      <td>0</td>\n",
              "      <td>0</td>\n",
              "      <td>0.0</td>\n",
              "    </tr>\n",
              "  </tbody>\n",
              "</table>\n",
              "<p>2 rows × 106 columns</p>\n",
              "</div>"
            ],
            "text/plain": [
              "   Age  fnlwgt  ...  Country_ Yugoslavia  Country_ Holand-Netherlands\n",
              "1   25  226802  ...                    0                          0.0\n",
              "2   38   89814  ...                    0                          0.0\n",
              "\n",
              "[2 rows x 106 columns]"
            ]
          },
          "metadata": {
            "tags": []
          },
          "execution_count": 24
        }
      ]
    },
    {
      "cell_type": "code",
      "metadata": {
        "collapsed": true,
        "id": "ph3en4d7f4BJ"
      },
      "source": [
        "X_train=data_train.drop(['Target'], axis=1)\n",
        "y_train = data_train['Target']\n",
        "\n",
        "X_test=data_test.drop(['Target'], axis=1)\n",
        "y_test = data_test['Target']"
      ],
      "execution_count": 25,
      "outputs": []
    },
    {
      "cell_type": "markdown",
      "metadata": {
        "id": "h7m65vlrf4BJ"
      },
      "source": [
        "## 3.1. Дерево решений без настройки параметров "
      ]
    },
    {
      "cell_type": "markdown",
      "metadata": {
        "id": "JMu-SiG5f4BL"
      },
      "source": [
        "**Обучите на имеющейся выборке дерево решений (`DecisionTreeClassifier`) максимальной глубины 3 и получите качество на тесте. Используйте параметр `random_state` = 17 для воспроизводимости результатов.**"
      ]
    },
    {
      "cell_type": "code",
      "metadata": {
        "collapsed": true,
        "colab": {
          "base_uri": "https://localhost:8080/"
        },
        "id": "npXY3myUf4BL",
        "outputId": "292deb15-866d-4a94-9212-a2ae27e6e814"
      },
      "source": [
        "tree = DecisionTreeClassifier(max_depth=3, random_state=17)\n",
        "tree.fit(X_train, y_train)"
      ],
      "execution_count": 26,
      "outputs": [
        {
          "output_type": "execute_result",
          "data": {
            "text/plain": [
              "DecisionTreeClassifier(ccp_alpha=0.0, class_weight=None, criterion='gini',\n",
              "                       max_depth=3, max_features=None, max_leaf_nodes=None,\n",
              "                       min_impurity_decrease=0.0, min_impurity_split=None,\n",
              "                       min_samples_leaf=1, min_samples_split=2,\n",
              "                       min_weight_fraction_leaf=0.0, presort='deprecated',\n",
              "                       random_state=17, splitter='best')"
            ]
          },
          "metadata": {
            "tags": []
          },
          "execution_count": 26
        }
      ]
    },
    {
      "cell_type": "markdown",
      "metadata": {
        "id": "GtsSVH1Qf4BM"
      },
      "source": [
        "**Сделайте с помощью полученной модели прогноз для тестовой выборки.**"
      ]
    },
    {
      "cell_type": "code",
      "metadata": {
        "collapsed": true,
        "id": "Meel7z6if4BM"
      },
      "source": [
        "tree_predictions = tree.predict(X_test)"
      ],
      "execution_count": 27,
      "outputs": []
    },
    {
      "cell_type": "code",
      "metadata": {
        "collapsed": true,
        "colab": {
          "base_uri": "https://localhost:8080/"
        },
        "id": "aOC5wdS6f4BN",
        "outputId": "ff4ddde7-7047-4f7b-c90a-6c890cee4b65"
      },
      "source": [
        "accuracy_score(y_test, tree_predictions)"
      ],
      "execution_count": 28,
      "outputs": [
        {
          "output_type": "execute_result",
          "data": {
            "text/plain": [
              "0.8447884036607088"
            ]
          },
          "metadata": {
            "tags": []
          },
          "execution_count": 28
        }
      ]
    },
    {
      "cell_type": "markdown",
      "metadata": {
        "id": "kgm8_z8vf4BN"
      },
      "source": [
        "<font color='red'>Вопрос 6.  </font> Какова доля правильных ответов дерева решений на тестовой выборке при максимальной глубине дерева = 3 и random_state = 17?"
      ]
    },
    {
      "cell_type": "markdown",
      "metadata": {
        "id": "FeHKMWzcf4BO"
      },
      "source": [
        "## 3.2. Дерево решений с настройкой параметров "
      ]
    },
    {
      "cell_type": "markdown",
      "metadata": {
        "id": "Fxccdcpcf4BO"
      },
      "source": [
        "**Обучите на имеющейся выборке дерево решений (`DecisionTreeClassifier`, опять `random_state` = 17 ). Максимальную глубину настройте на кросс-валидации с помощью `GridSearchCV`. Проведите 5-кратную кросс-валидацию**"
      ]
    },
    {
      "cell_type": "code",
      "metadata": {
        "collapsed": true,
        "colab": {
          "base_uri": "https://localhost:8080/"
        },
        "id": "1RrV5W0yf4BP",
        "outputId": "eb61e4fb-897c-484e-d844-ac57c2a79000"
      },
      "source": [
        "tree_params = {'max_depth': range(2,11)}\n",
        "\n",
        "locally_best_tree = GridSearchCV(DecisionTreeClassifier(random_state=17), tree_params, cv=5)                   \n",
        "\n",
        "locally_best_tree.fit(X_train, y_train)"
      ],
      "execution_count": 29,
      "outputs": [
        {
          "output_type": "execute_result",
          "data": {
            "text/plain": [
              "GridSearchCV(cv=5, error_score=nan,\n",
              "             estimator=DecisionTreeClassifier(ccp_alpha=0.0, class_weight=None,\n",
              "                                              criterion='gini', max_depth=None,\n",
              "                                              max_features=None,\n",
              "                                              max_leaf_nodes=None,\n",
              "                                              min_impurity_decrease=0.0,\n",
              "                                              min_impurity_split=None,\n",
              "                                              min_samples_leaf=1,\n",
              "                                              min_samples_split=2,\n",
              "                                              min_weight_fraction_leaf=0.0,\n",
              "                                              presort='deprecated',\n",
              "                                              random_state=17,\n",
              "                                              splitter='best'),\n",
              "             iid='deprecated', n_jobs=None,\n",
              "             param_grid={'max_depth': range(2, 11)}, pre_dispatch='2*n_jobs',\n",
              "             refit=True, return_train_score=False, scoring=None, verbose=0)"
            ]
          },
          "metadata": {
            "tags": []
          },
          "execution_count": 29
        }
      ]
    },
    {
      "cell_type": "code",
      "metadata": {
        "collapsed": true,
        "colab": {
          "base_uri": "https://localhost:8080/"
        },
        "id": "KTaQPwZsf4BP",
        "outputId": "abdb92ec-94c0-4ca0-fa8f-1f76a47eb614"
      },
      "source": [
        "print(\"Best params:\", locally_best_tree.best_params_)\n",
        "print(\"Best cross validaton score\", locally_best_tree.best_score_)"
      ],
      "execution_count": 30,
      "outputs": [
        {
          "output_type": "stream",
          "text": [
            "Best params: {'max_depth': 9}\n",
            "Best cross validaton score 0.8562698879315647\n"
          ],
          "name": "stdout"
        }
      ]
    },
    {
      "cell_type": "markdown",
      "metadata": {
        "id": "VkET8uuxf4BQ"
      },
      "source": [
        "**Обучите на имеющейся выборке дерево решений максимальной глубины 9 (это лучшее значение `max_depth` в моем случае) и   оцените долю правильных ответов на тесте. Используйте параметр random_state = 17 для воспроизводимости результатов.**"
      ]
    },
    {
      "cell_type": "code",
      "metadata": {
        "collapsed": true,
        "colab": {
          "base_uri": "https://localhost:8080/"
        },
        "id": "0y8QKI_Sf4BQ",
        "outputId": "a130f0aa-c81e-4371-b629-b4644a04b92a"
      },
      "source": [
        "tuned_tree = locally_best_tree.best_estimator_\n",
        "tuned_tree.fit(X_train, y_train)\n",
        "tuned_tree_predictions = tuned_tree.predict(X_test)\n",
        "accuracy_score(y_test, tuned_tree_predictions)"
      ],
      "execution_count": 31,
      "outputs": [
        {
          "output_type": "execute_result",
          "data": {
            "text/plain": [
              "0.8471838339168356"
            ]
          },
          "metadata": {
            "tags": []
          },
          "execution_count": 31
        }
      ]
    },
    {
      "cell_type": "markdown",
      "metadata": {
        "id": "TCDN7zXUf4BR"
      },
      "source": [
        "<font color='red'>Вопрос 7.  </font> Какова доля правильных ответов дерева решений на тестовой выборке при максимальной глубине дерева = 9 и random_state = 17?"
      ]
    },
    {
      "cell_type": "markdown",
      "metadata": {
        "id": "gI7gDjjLf4BR"
      },
      "source": [
        "## 3.3. Случайный лес без настройки параметров  (опционально)¶"
      ]
    },
    {
      "cell_type": "markdown",
      "metadata": {
        "id": "NVewmPGsf4BS"
      },
      "source": [
        "**Немного забежим вперед и попробуем в нашей задаче случайный лес. Пока можно его себе представлять, как куча деревьев решений, обученных на немного разных подвыборках исходной обучающей выборки, причем эта куча деревьев обычно работает существенно лучше, чем отдельные деревья. **\n",
        "\n",
        "**Обучите на имеющейся выборке случайный лес (`RandomForestClassifier`), число деревьев сделайте равным ста, а `random_state` = 17.**"
      ]
    },
    {
      "cell_type": "code",
      "metadata": {
        "collapsed": true,
        "colab": {
          "base_uri": "https://localhost:8080/"
        },
        "id": "lBlloHa5f4BS",
        "outputId": "5368461a-0d13-4dba-9855-d78e0d51a638"
      },
      "source": [
        "rf = RandomForestClassifier(n_estimators=100, random_state=17)\n",
        "rf.fit(X_train, y_train)"
      ],
      "execution_count": 32,
      "outputs": [
        {
          "output_type": "execute_result",
          "data": {
            "text/plain": [
              "RandomForestClassifier(bootstrap=True, ccp_alpha=0.0, class_weight=None,\n",
              "                       criterion='gini', max_depth=None, max_features='auto',\n",
              "                       max_leaf_nodes=None, max_samples=None,\n",
              "                       min_impurity_decrease=0.0, min_impurity_split=None,\n",
              "                       min_samples_leaf=1, min_samples_split=2,\n",
              "                       min_weight_fraction_leaf=0.0, n_estimators=100,\n",
              "                       n_jobs=None, oob_score=False, random_state=17, verbose=0,\n",
              "                       warm_start=False)"
            ]
          },
          "metadata": {
            "tags": []
          },
          "execution_count": 32
        }
      ]
    },
    {
      "cell_type": "markdown",
      "metadata": {
        "id": "qWAgVaZJf4BT"
      },
      "source": [
        "**Сделайте с помощью полученной модели прогноз для тестовой выборки.**"
      ]
    },
    {
      "cell_type": "code",
      "metadata": {
        "collapsed": true,
        "id": "gzgNj9whf4BU"
      },
      "source": [
        "forest_predictions = rf.predict(X_test)"
      ],
      "execution_count": 33,
      "outputs": []
    },
    {
      "cell_type": "code",
      "metadata": {
        "collapsed": true,
        "colab": {
          "base_uri": "https://localhost:8080/"
        },
        "id": "vSvX-Nznf4BU",
        "outputId": "dd05fe5f-6a86-4b45-cf17-fedb83d2d33b"
      },
      "source": [
        "accuracy_score(y_test, forest_predictions)"
      ],
      "execution_count": 34,
      "outputs": [
        {
          "output_type": "execute_result",
          "data": {
            "text/plain": [
              "0.8576254529820035"
            ]
          },
          "metadata": {
            "tags": []
          },
          "execution_count": 34
        }
      ]
    },
    {
      "cell_type": "markdown",
      "metadata": {
        "id": "Q3rqTZ_1f4BV"
      },
      "source": [
        "## 3.4. Случайный лес с настройкой параметров  (опционально)"
      ]
    },
    {
      "cell_type": "markdown",
      "metadata": {
        "id": "OLhtv_TUf4BV"
      },
      "source": [
        "**Обучите на имеющейся выборке случайный лес (`RandomForestClassifier`). Максимальную глубину и максимальное число признаков для каждого дерева настройте с помощью GridSearchCV.**"
      ]
    },
    {
      "cell_type": "code",
      "metadata": {
        "collapsed": true,
        "colab": {
          "base_uri": "https://localhost:8080/"
        },
        "id": "XiKRaOXGf4BW",
        "outputId": "a460d163-4eb7-4fe1-adcf-92750340623c"
      },
      "source": [
        "forest_params = {'max_depth': range(10, 21),\n",
        "                'max_features': range(5, 105, 10)}\n",
        "\n",
        "locally_best_forest = GridSearchCV(rf, forest_params, verbose=10, n_jobs=-1)\n",
        "\n",
        "locally_best_forest.fit(X_train, y_train)"
      ],
      "execution_count": 35,
      "outputs": [
        {
          "output_type": "stream",
          "text": [
            "Fitting 5 folds for each of 110 candidates, totalling 550 fits\n"
          ],
          "name": "stdout"
        },
        {
          "output_type": "stream",
          "text": [
            "[Parallel(n_jobs=-1)]: Using backend LokyBackend with 2 concurrent workers.\n",
            "[Parallel(n_jobs=-1)]: Done   1 tasks      | elapsed:    3.5s\n",
            "[Parallel(n_jobs=-1)]: Done   4 tasks      | elapsed:    5.9s\n",
            "[Parallel(n_jobs=-1)]: Done   9 tasks      | elapsed:   15.8s\n",
            "[Parallel(n_jobs=-1)]: Done  14 tasks      | elapsed:   29.4s\n",
            "[Parallel(n_jobs=-1)]: Done  21 tasks      | elapsed:   57.1s\n",
            "[Parallel(n_jobs=-1)]: Done  28 tasks      | elapsed:  1.5min\n",
            "[Parallel(n_jobs=-1)]: Done  37 tasks      | elapsed:  2.5min\n",
            "[Parallel(n_jobs=-1)]: Done  46 tasks      | elapsed:  3.7min\n",
            "[Parallel(n_jobs=-1)]: Done  57 tasks      | elapsed:  4.3min\n",
            "[Parallel(n_jobs=-1)]: Done  68 tasks      | elapsed:  4.9min\n",
            "[Parallel(n_jobs=-1)]: Done  81 tasks      | elapsed:  6.1min\n",
            "[Parallel(n_jobs=-1)]: Done  94 tasks      | elapsed:  7.7min\n",
            "[Parallel(n_jobs=-1)]: Done 109 tasks      | elapsed:  8.8min\n",
            "[Parallel(n_jobs=-1)]: Done 124 tasks      | elapsed:  9.8min\n",
            "[Parallel(n_jobs=-1)]: Done 141 tasks      | elapsed: 11.9min\n",
            "[Parallel(n_jobs=-1)]: Done 158 tasks      | elapsed: 13.4min\n",
            "[Parallel(n_jobs=-1)]: Done 177 tasks      | elapsed: 14.8min\n",
            "[Parallel(n_jobs=-1)]: Done 196 tasks      | elapsed: 17.5min\n",
            "[Parallel(n_jobs=-1)]: Done 217 tasks      | elapsed: 18.9min\n",
            "[Parallel(n_jobs=-1)]: Done 238 tasks      | elapsed: 21.3min\n",
            "[Parallel(n_jobs=-1)]: Done 261 tasks      | elapsed: 23.8min\n",
            "[Parallel(n_jobs=-1)]: Done 284 tasks      | elapsed: 26.2min\n",
            "[Parallel(n_jobs=-1)]: Done 309 tasks      | elapsed: 29.4min\n",
            "[Parallel(n_jobs=-1)]: Done 334 tasks      | elapsed: 32.0min\n",
            "[Parallel(n_jobs=-1)]: Done 361 tasks      | elapsed: 35.4min\n",
            "[Parallel(n_jobs=-1)]: Done 388 tasks      | elapsed: 38.6min\n",
            "[Parallel(n_jobs=-1)]: Done 417 tasks      | elapsed: 41.9min\n",
            "[Parallel(n_jobs=-1)]: Done 446 tasks      | elapsed: 46.4min\n",
            "[Parallel(n_jobs=-1)]: Done 477 tasks      | elapsed: 49.4min\n",
            "[Parallel(n_jobs=-1)]: Done 508 tasks      | elapsed: 53.9min\n",
            "[Parallel(n_jobs=-1)]: Done 541 tasks      | elapsed: 58.2min\n",
            "[Parallel(n_jobs=-1)]: Done 550 out of 550 | elapsed: 60.1min finished\n"
          ],
          "name": "stderr"
        },
        {
          "output_type": "execute_result",
          "data": {
            "text/plain": [
              "GridSearchCV(cv=None, error_score=nan,\n",
              "             estimator=RandomForestClassifier(bootstrap=True, ccp_alpha=0.0,\n",
              "                                              class_weight=None,\n",
              "                                              criterion='gini', max_depth=None,\n",
              "                                              max_features='auto',\n",
              "                                              max_leaf_nodes=None,\n",
              "                                              max_samples=None,\n",
              "                                              min_impurity_decrease=0.0,\n",
              "                                              min_impurity_split=None,\n",
              "                                              min_samples_leaf=1,\n",
              "                                              min_samples_split=2,\n",
              "                                              min_weight_fraction_leaf=0.0,\n",
              "                                              n_estimators=100, n_jobs=None,\n",
              "                                              oob_score=False, random_state=17,\n",
              "                                              verbose=0, warm_start=False),\n",
              "             iid='deprecated', n_jobs=-1,\n",
              "             param_grid={'max_depth': range(10, 21),\n",
              "                         'max_features': range(5, 105, 10)},\n",
              "             pre_dispatch='2*n_jobs', refit=True, return_train_score=False,\n",
              "             scoring=None, verbose=10)"
            ]
          },
          "metadata": {
            "tags": []
          },
          "execution_count": 35
        }
      ]
    },
    {
      "cell_type": "code",
      "metadata": {
        "collapsed": true,
        "colab": {
          "base_uri": "https://localhost:8080/"
        },
        "id": "dP2owYQTf4BW",
        "outputId": "9e187e6b-6a73-4f10-9582-3be936b1c154"
      },
      "source": [
        "print(\"Best params:\", locally_best_forest.best_params_)\n",
        "print(\"Best cross validaton score\", locally_best_forest.best_score_)"
      ],
      "execution_count": 36,
      "outputs": [
        {
          "output_type": "stream",
          "text": [
            "Best params: {'max_depth': 14, 'max_features': 55}\n",
            "Best cross validaton score 0.8653606649864136\n"
          ],
          "name": "stdout"
        }
      ]
    },
    {
      "cell_type": "markdown",
      "metadata": {
        "id": "Wa3hqZMBf4BX"
      },
      "source": [
        "**Сделайте с помощью полученной модели прогноз для тестовой выборки.**"
      ]
    },
    {
      "cell_type": "code",
      "metadata": {
        "collapsed": true,
        "colab": {
          "base_uri": "https://localhost:8080/"
        },
        "id": "ct9pxNMzf4BX",
        "outputId": "5b4c1901-802d-451d-a7e1-24c841e05b2a"
      },
      "source": [
        "tuned_forest_predictions = locally_best_forest.predict(X_test)\n",
        "accuracy_score(y_test, tuned_forest_predictions)"
      ],
      "execution_count": 37,
      "outputs": [
        {
          "output_type": "execute_result",
          "data": {
            "text/plain": [
              "0.8654873779251888"
            ]
          },
          "metadata": {
            "tags": []
          },
          "execution_count": 37
        }
      ]
    }
  ]
}